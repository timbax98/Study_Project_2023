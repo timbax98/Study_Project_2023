{
  "cells": [
    {
      "cell_type": "markdown",
      "metadata": {
        "id": "EDqBMS1KBMo2"
      },
      "source": [
        "# **Study Project:** *Transformer model for prediction of grasping movements*"
      ]
    },
    {
      "cell_type": "markdown",
      "metadata": {
        "id": "QC1eRfTGuWyA",
        "jp-MarkdownHeadingCollapsed": true
      },
      "source": [
        "## Import packages"
      ]
    },
    {
      "cell_type": "code",
      "source": [
        "!pip install ultralytics"
      ],
      "metadata": {
        "id": "KYnpaWeO46C6",
        "colab": {
          "base_uri": "https://localhost:8080/"
        },
        "outputId": "0e07dde2-5b87-4779-bc77-f0c1e6344d12"
      },
      "execution_count": 1,
      "outputs": [
        {
          "output_type": "stream",
          "name": "stdout",
          "text": [
            "Collecting ultralytics\n",
            "  Downloading ultralytics-8.0.202-py3-none-any.whl (644 kB)\n",
            "\u001b[2K     \u001b[90m━━━━━━━━━━━━━━━━━━━━━━━━━━━━━━━━━━━━━━━━\u001b[0m \u001b[32m644.8/644.8 kB\u001b[0m \u001b[31m9.1 MB/s\u001b[0m eta \u001b[36m0:00:00\u001b[0m\n",
            "\u001b[?25hRequirement already satisfied: matplotlib>=3.3.0 in /usr/local/lib/python3.10/dist-packages (from ultralytics) (3.7.1)\n",
            "Requirement already satisfied: numpy>=1.22.2 in /usr/local/lib/python3.10/dist-packages (from ultralytics) (1.23.5)\n",
            "Requirement already satisfied: opencv-python>=4.6.0 in /usr/local/lib/python3.10/dist-packages (from ultralytics) (4.8.0.76)\n",
            "Requirement already satisfied: pillow>=7.1.2 in /usr/local/lib/python3.10/dist-packages (from ultralytics) (9.4.0)\n",
            "Requirement already satisfied: pyyaml>=5.3.1 in /usr/local/lib/python3.10/dist-packages (from ultralytics) (6.0.1)\n",
            "Requirement already satisfied: requests>=2.23.0 in /usr/local/lib/python3.10/dist-packages (from ultralytics) (2.31.0)\n",
            "Requirement already satisfied: scipy>=1.4.1 in /usr/local/lib/python3.10/dist-packages (from ultralytics) (1.11.3)\n",
            "Requirement already satisfied: torch>=1.8.0 in /usr/local/lib/python3.10/dist-packages (from ultralytics) (2.1.0+cu118)\n",
            "Requirement already satisfied: torchvision>=0.9.0 in /usr/local/lib/python3.10/dist-packages (from ultralytics) (0.16.0+cu118)\n",
            "Requirement already satisfied: tqdm>=4.64.0 in /usr/local/lib/python3.10/dist-packages (from ultralytics) (4.66.1)\n",
            "Requirement already satisfied: pandas>=1.1.4 in /usr/local/lib/python3.10/dist-packages (from ultralytics) (1.5.3)\n",
            "Requirement already satisfied: seaborn>=0.11.0 in /usr/local/lib/python3.10/dist-packages (from ultralytics) (0.12.2)\n",
            "Requirement already satisfied: psutil in /usr/local/lib/python3.10/dist-packages (from ultralytics) (5.9.5)\n",
            "Requirement already satisfied: py-cpuinfo in /usr/local/lib/python3.10/dist-packages (from ultralytics) (9.0.0)\n",
            "Collecting thop>=0.1.1 (from ultralytics)\n",
            "  Downloading thop-0.1.1.post2209072238-py3-none-any.whl (15 kB)\n",
            "Requirement already satisfied: contourpy>=1.0.1 in /usr/local/lib/python3.10/dist-packages (from matplotlib>=3.3.0->ultralytics) (1.1.1)\n",
            "Requirement already satisfied: cycler>=0.10 in /usr/local/lib/python3.10/dist-packages (from matplotlib>=3.3.0->ultralytics) (0.12.1)\n",
            "Requirement already satisfied: fonttools>=4.22.0 in /usr/local/lib/python3.10/dist-packages (from matplotlib>=3.3.0->ultralytics) (4.43.1)\n",
            "Requirement already satisfied: kiwisolver>=1.0.1 in /usr/local/lib/python3.10/dist-packages (from matplotlib>=3.3.0->ultralytics) (1.4.5)\n",
            "Requirement already satisfied: packaging>=20.0 in /usr/local/lib/python3.10/dist-packages (from matplotlib>=3.3.0->ultralytics) (23.2)\n",
            "Requirement already satisfied: pyparsing>=2.3.1 in /usr/local/lib/python3.10/dist-packages (from matplotlib>=3.3.0->ultralytics) (3.1.1)\n",
            "Requirement already satisfied: python-dateutil>=2.7 in /usr/local/lib/python3.10/dist-packages (from matplotlib>=3.3.0->ultralytics) (2.8.2)\n",
            "Requirement already satisfied: pytz>=2020.1 in /usr/local/lib/python3.10/dist-packages (from pandas>=1.1.4->ultralytics) (2023.3.post1)\n",
            "Requirement already satisfied: charset-normalizer<4,>=2 in /usr/local/lib/python3.10/dist-packages (from requests>=2.23.0->ultralytics) (3.3.1)\n",
            "Requirement already satisfied: idna<4,>=2.5 in /usr/local/lib/python3.10/dist-packages (from requests>=2.23.0->ultralytics) (3.4)\n",
            "Requirement already satisfied: urllib3<3,>=1.21.1 in /usr/local/lib/python3.10/dist-packages (from requests>=2.23.0->ultralytics) (2.0.7)\n",
            "Requirement already satisfied: certifi>=2017.4.17 in /usr/local/lib/python3.10/dist-packages (from requests>=2.23.0->ultralytics) (2023.7.22)\n",
            "Requirement already satisfied: filelock in /usr/local/lib/python3.10/dist-packages (from torch>=1.8.0->ultralytics) (3.12.4)\n",
            "Requirement already satisfied: typing-extensions in /usr/local/lib/python3.10/dist-packages (from torch>=1.8.0->ultralytics) (4.5.0)\n",
            "Requirement already satisfied: sympy in /usr/local/lib/python3.10/dist-packages (from torch>=1.8.0->ultralytics) (1.12)\n",
            "Requirement already satisfied: networkx in /usr/local/lib/python3.10/dist-packages (from torch>=1.8.0->ultralytics) (3.2)\n",
            "Requirement already satisfied: jinja2 in /usr/local/lib/python3.10/dist-packages (from torch>=1.8.0->ultralytics) (3.1.2)\n",
            "Requirement already satisfied: fsspec in /usr/local/lib/python3.10/dist-packages (from torch>=1.8.0->ultralytics) (2023.6.0)\n",
            "Requirement already satisfied: triton==2.1.0 in /usr/local/lib/python3.10/dist-packages (from torch>=1.8.0->ultralytics) (2.1.0)\n",
            "Requirement already satisfied: six>=1.5 in /usr/local/lib/python3.10/dist-packages (from python-dateutil>=2.7->matplotlib>=3.3.0->ultralytics) (1.16.0)\n",
            "Requirement already satisfied: MarkupSafe>=2.0 in /usr/local/lib/python3.10/dist-packages (from jinja2->torch>=1.8.0->ultralytics) (2.1.3)\n",
            "Requirement already satisfied: mpmath>=0.19 in /usr/local/lib/python3.10/dist-packages (from sympy->torch>=1.8.0->ultralytics) (1.3.0)\n",
            "Installing collected packages: thop, ultralytics\n",
            "Successfully installed thop-0.1.1.post2209072238 ultralytics-8.0.202\n"
          ]
        }
      ]
    },
    {
      "cell_type": "code",
      "source": [
        "from google.colab import drive\n",
        "drive.mount('/content/drive')"
      ],
      "metadata": {
        "colab": {
          "base_uri": "https://localhost:8080/"
        },
        "id": "ubFIrWELe9UT",
        "outputId": "683dc3e3-bb00-4ab5-fd93-ef72de8990ab"
      },
      "execution_count": 2,
      "outputs": [
        {
          "output_type": "stream",
          "name": "stdout",
          "text": [
            "Mounted at /content/drive\n"
          ]
        }
      ]
    },
    {
      "cell_type": "code",
      "execution_count": 3,
      "metadata": {
        "id": "F7Sn6IstgaA6"
      },
      "outputs": [],
      "source": [
        "import os\n",
        "import sys\n",
        "import zipfile\n",
        "import cv2\n",
        "import numpy as np\n",
        "import tensorflow as tf\n",
        "import IPython.display as ipd\n",
        "#!pip install ultralytics\n",
        "#ipd.clear_output()\n",
        "import ultralytics"
      ]
    },
    {
      "cell_type": "markdown",
      "metadata": {
        "id": "cJf8BcE-to4F",
        "jp-MarkdownHeadingCollapsed": true
      },
      "source": [
        "## Helper functions"
      ]
    },
    {
      "cell_type": "code",
      "execution_count": 4,
      "metadata": {
        "id": "LCgIq5tJPEHX"
      },
      "outputs": [],
      "source": [
        "def GetBoundingBoxes(videopath):\n",
        "    \"\"\"\n",
        "    Extract bounding boxes from video.\n",
        "\n",
        "    Args:\n",
        "    videopath -- path to video to extract bounding boxes from.\n",
        "    \"\"\"\n",
        "\n",
        "    # Use object tracker to get the bounding boxes and classIDs in a 'results' object\n",
        "    bbs = np.zeros((1, 7))\n",
        "    # It is also possible to pass the whole folder as path,\n",
        "    # but we still want the flexibility to access single videos\n",
        "    results = model.track(source=videopath, tracker=\"bytetrack.yaml\")\n",
        "\n",
        "    # Get class names\n",
        "    classes = results[0].names\n",
        "\n",
        "    # Iterate through each frame of a video to get all bounding boxes for a frame\n",
        "    for frame in range(len(results)):\n",
        "\n",
        "        # x_center, y_center, bbwidth, bbheight of bbs of this frame\n",
        "        xywh = results[frame].boxes.xywh.detach().cpu().numpy()\n",
        "        n = len(xywh) # number of bounding boxes\n",
        "        cls = results[frame].boxes.cls.detach().cpu().numpy().reshape((n,1))\n",
        "        # if the object tracker is currently tracking at least one object, save the trackingID for that object, else fill with -1 placeholder\n",
        "        trackingID = results[frame].boxes.id.detach().cpu().numpy().reshape((n,1)) if results[frame].boxes.is_track else np.repeat(-1, n).reshape((n,1))\n",
        "        frame_count = np.repeat(frame, n).reshape((n,1))\n",
        "\n",
        "        # bind the data together for one frame\n",
        "        data = np.concatenate((frame_count, cls, xywh, trackingID), axis=1)\n",
        "        # add all data of this frame to all data of this video\n",
        "        bbs = np.concatenate((bbs, data), axis=0)\n",
        "\n",
        "    return bbs, classes"
      ]
    },
    {
      "cell_type": "markdown",
      "metadata": {
        "id": "n1OVMgLRiBSf",
        "jp-MarkdownHeadingCollapsed": true
      },
      "source": [
        "## Create input X"
      ]
    },
    {
      "cell_type": "code",
      "execution_count": 5,
      "metadata": {
        "id": "FxE-wPP7SFe3",
        "colab": {
          "base_uri": "https://localhost:8080/"
        },
        "outputId": "ddc2f2f0-05d5-4903-96a0-3884c8071eed"
      },
      "outputs": [
        {
          "output_type": "stream",
          "name": "stderr",
          "text": [
            "Downloading https://github.com/ultralytics/assets/releases/download/v0.0.0/yolov8n.pt to 'yolov8n.pt'...\n",
            "100%|██████████| 6.23M/6.23M [00:00<00:00, 25.1MB/s]\n"
          ]
        }
      ],
      "source": [
        "# Load model\n",
        "model = ultralytics.YOLO('yolov8n.pt')\n",
        "\n",
        "# List videos\n",
        "folderpath = '/content/drive/MyDrive/Study Project: Grasping/Transformer/Data/Trials2/'\n",
        "labelpath = '/content/drive/MyDrive/Study Project: Grasping/Transformer/Data/Labels2/'\n",
        "folder = [f for f in os.listdir(labelpath) if os.path.isfile(os.path.join(labelpath, f))]\n",
        "bbs_hand_path = '/content/drive/MyDrive/Study Project: Grasping/Transformer/Data/Centering_Data/Post_Centering_BBs_Hand/'\n",
        "bbs_target_path = '/content/drive/MyDrive/Study Project: Grasping/Transformer/Data/Centering_Data/Post_Centering_BBs_Target/'\n",
        "\n",
        "# Example video\n",
        "#ipd.Video(labelpath+'banana02_centered.mp4', width=1920/1.7, height=1120/1.7)"
      ]
    },
    {
      "cell_type": "markdown",
      "metadata": {
        "id": "rkb5TAAFGKWp"
      },
      "source": [
        "### Extract bounding box information"
      ]
    },
    {
      "cell_type": "code",
      "execution_count": 6,
      "metadata": {
        "id": "QuQww7Bj7Bst",
        "scrolled": true,
        "colab": {
          "base_uri": "https://localhost:8080/"
        },
        "outputId": "d5a2eb62-a3c1-4cc1-fe31-f893f3209494"
      },
      "outputs": [
        {
          "output_type": "stream",
          "name": "stdout",
          "text": [
            "Video 1/1: banana02_centered.mp4\n",
            "\n"
          ]
        }
      ],
      "source": [
        "# instantiate empty numpy arrays for data\n",
        "# video_count, frame, x_center_t, y_center_t, bbwidth_t, bbheight_t, x_center_h, y_center_h, bbwidth_h, bbheight_h (raw)\n",
        "input = np.zeros((0, 10))\n",
        "input[:] = np.nan\n",
        "# filename, frame, angle/sos/eos\n",
        "labels = np.zeros((0, 3))\n",
        "labels[:] = np.nan\n",
        "\n",
        "\n",
        "# Iterate through every video file in the folder\n",
        "for i, video in enumerate(folder):\n",
        "\n",
        "    print(f\"Video {i+1}/{len(folder)}: {video}\\n\")\n",
        "\n",
        "    #Load bounding boxes for video from drive\n",
        "    bbs_hand_file = 'Post_Centering_BBs_Hand_Video_{}.npz'.format(i)\n",
        "    bbs_target_file = 'Post_Centering_BBs_Target_Video_{}.npz'.format(i)\n",
        "\n",
        "    bbs_hand_npz = np.load(os.path.join(bbs_hand_path,bbs_hand_file))\n",
        "    bbs_target_npz = np.load(os.path.join(bbs_target_path,bbs_target_file))\n",
        "\n",
        "    bbs_hand = bbs_hand_npz[\"array\"]\n",
        "    bbs_target = bbs_target_npz[\"array\"]\n",
        "\n",
        "    frameCount = len(bbs_hand)\n",
        "    if (len(bbs_hand) != len(bbs_target)):\n",
        "        raise ValueError('Error in interpolation result, different amount of frames for hand and target')\n",
        "\n",
        "    # (x_center_target, y_center_target, bbwidth_target, bbheight_target, class, trackerID, frame, filename, x_center_hand, y_center_hand, bbwidth_hand, bbheight_hand)\n",
        "    vid_input = np.zeros((frameCount, 10))\n",
        "    vid_input[:] = np.nan\n",
        "\n",
        "    #Fill frame and video indices for new array\n",
        "    #frame indices\n",
        "    vid_input[:,1] = range(frameCount)\n",
        "\n",
        "    #video indices\n",
        "    vid_input[:,0] = i\n",
        "\n",
        "    #Fill Target information: already interpolated\n",
        "    #get target values\n",
        "    x_centers_targets = np.asarray([frame_value[0] for frame_value in bbs_target])\n",
        "    y_centers_targets = np.asarray([frame_value[1] for frame_value in bbs_target])\n",
        "    bbwidths_targets = np.asarray([frame_value[2] for frame_value in bbs_target])\n",
        "    bbheights_targets = np.asarray([frame_value[3] for frame_value in bbs_target])\n",
        "\n",
        "    #put target values in vid_input\n",
        "    vid_input[:,2] = x_centers_targets\n",
        "    vid_input[:,3] = y_centers_targets\n",
        "    vid_input[:,4] = bbwidths_targets\n",
        "    vid_input[:,5] = bbheights_targets\n",
        "\n",
        "\n",
        "    #Fill hand information: already interpolated\n",
        "    #get the values for successful detections\n",
        "    x_centers_hands = np.asarray([frame_value[0] for frame_value in bbs_hand])\n",
        "    y_centers_hands = np.asarray([frame_value[1] for frame_value in bbs_hand])\n",
        "    bbwidths_hands = np.asarray([frame_value[2] for frame_value in bbs_hand])\n",
        "    bbheights_hands = np.asarray([frame_value[3] for frame_value in bbs_hand])\n",
        "\n",
        "    #put target values in vid_input\n",
        "    vid_input[:,6] = x_centers_hands\n",
        "    vid_input[:,7] = y_centers_hands\n",
        "    vid_input[:,8] = bbwidths_hands\n",
        "    vid_input[:,9] = bbheights_hands\n",
        "\n",
        "\n",
        "    # 8. Bind input X together and bind labels Y together\n",
        "    input = np.concatenate((input, vid_input), axis=0)\n",
        "\n",
        "# Remove rows with NaN values (only give vibration commands if there is information on both hand and target object, at least for training)\n",
        "input = input[~np.isnan(input).any(axis=1)]"
      ]
    },
    {
      "cell_type": "code",
      "execution_count": 16,
      "metadata": {
        "scrolled": true,
        "id": "nKrD0NKF1stg",
        "colab": {
          "base_uri": "https://localhost:8080/"
        },
        "outputId": "f7e51bd4-981b-4bfb-cd19-ebe7a33c10f6"
      },
      "outputs": [
        {
          "output_type": "stream",
          "name": "stdout",
          "text": [
            "[[   0.            0.         1528.85791016  600.90942383  225.45043945  167.29650879  284.           20.            0.            0.        ]\n",
            " [   0.            1.         1528.85791016  600.90942383  225.45043945  167.29650879 1510.95019531 1083.32666016  470.2857666    83.98937988]\n",
            " [   0.            2.         1528.85791016  600.90942383  225.45043945  167.29650879 1511.59460449 1083.99261475  469.45433044   82.04003906]\n",
            " [   0.            3.         1528.85791016  600.90942383  225.45043945  167.29650879 1512.23901367 1084.65856934  468.62289429   80.09069824]\n",
            " [   0.            4.         1528.85791016  600.90942383  225.45043945  167.29650879 1512.88342285 1085.32452393  467.79145813   78.14135742]\n",
            " [   0.            5.         1528.85791016  600.90942383  225.45043945  167.29650879 1513.52783203 1085.99047852  466.96002197   76.1920166 ]\n",
            " [   0.            6.         1528.85791016  600.90942383  225.45043945  167.29650879 1514.17224121 1086.65643311  466.12858582   74.24267578]\n",
            " [   0.            7.         1528.85791016  600.90942383  225.45043945  167.29650879 1514.81665039 1087.3223877   465.29714966   72.29333496]\n",
            " [   0.            8.         1528.85791016  600.90942383  225.45043945  167.29650879 1515.46105957 1087.98834229  464.4657135    70.34399414]\n",
            " [   0.            9.         1528.85791016  600.90942383  225.45043945  167.29650879 1516.10546875 1088.65429688  463.63427734   68.39465332]\n",
            " [   0.           10.         1528.85791016  600.90942383  225.45043945  167.29650879 1515.53198242 1088.85217285  465.77380371   69.39624023]\n",
            " [   0.           11.         1528.85791016  600.90942383  225.45043945  167.29650879 1516.63183594 1088.66021729  464.31494141   70.16619873]\n",
            " [   0.           12.         1528.85791016  600.90942383  225.45043945  167.29650879 1517.73168945 1088.46826172  462.8560791    70.93615723]\n",
            " [   0.           13.         1528.85791016  600.90942383  225.45043945  167.29650879 1513.05322266 1086.91314697  477.03967285   74.18096924]\n",
            " [   0.           14.         1528.85791016  600.90942383  225.45043945  167.29650879 1508.37475586 1085.35803223  491.2232666    77.42578125]\n",
            " [   0.           15.         1498.40844727  588.65539551  213.51721191  170.90386963 1496.56176758 1067.66162109  518.02331543   98.32037354]\n",
            " [   0.           16.         1498.34631348  588.63989258  213.41748047  171.03735352 1496.68591309 1067.49987793  518.35668945   98.59277344]\n",
            " [   0.           17.         1498.65197754  588.52972412  213.17749023  171.11877441 1495.71618652 1066.64172363  515.19024658   99.6116333 ]\n",
            " [   0.           18.         1496.0871582   584.89794922  217.46337891  170.93695068 1494.17797852 1063.19848633  517.40222168  103.90539551]\n",
            " [   0.           19.         1496.2644043   584.87121582  217.72521973  170.67849731 1493.23657227 1062.82055664  515.91815186  103.99255371]\n",
            " [   0.           20.         1490.45837402  578.46685791  221.73706055  171.86752319 1495.52661133 1060.1640625   513.27874756  104.85632324]\n",
            " [   0.           21.         1490.3684082   578.42919922  221.53137207  171.80276489 1497.70648193 1057.16870117  518.44796753  112.12817383]\n",
            " [   0.           22.         1490.55224609  570.44836426  223.54504395  171.45095825 1560.70800781 1068.88183594  626.79968262   83.05810547]\n",
            " [   0.           23.         1490.54516602  566.32666016  224.82458496  170.18557739 1499.55517578 1051.20935059  527.83410645  116.40740967]\n",
            " [   0.           24.         1492.56860352  566.52087402  224.12890625  170.362854   1552.93774414 1054.00634766  626.17883301  105.2923584 ]\n",
            " [   0.           25.         1496.09313965  566.57824707  220.95483398  169.24090576 1547.85388184 1065.75561523  639.6784668    84.13952637]\n",
            " [   0.           26.         1496.17956543  566.53564453  220.9230957   169.1713562  1547.90283203 1065.74487305  639.66168213   84.2980957 ]\n",
            " [   0.           27.         1498.60559082  570.91467285  217.72119141  169.05340576 1501.46374512 1048.56079102  522.95440674  125.85357666]\n",
            " [   0.           28.         1500.77307129  578.50646973  216.61889648  167.71124268 1502.69617029 1053.20488677  521.32878979  124.4358438 ]\n",
            " [   0.           29.         1502.15454102  582.95446777  217.21032715  170.29162598 1503.92859547 1055.84898253  519.70317284  123.01811095]\n",
            " [   0.           30.         1502.11425781  582.9921875   217.54833984  170.43469238 1504.16102064 1056.49307828  518.07755589  121.60037809]\n",
            " [   0.           31.         1502.44543457  584.35565186  216.80102539  170.84912109 1504.39344581 1058.13717404  516.45193894  120.18264523]\n",
            " [   0.           32.         1506.53515625  586.93804932  211.83508301  169.7315979  1506.62587099 1059.7812698   514.82632199  118.76491237]\n",
            " [   0.           33.         1506.31604004  586.90856934  211.5715332   169.65725708 1506.85829616 1060.42536555  513.20070504  117.34717952]\n",
            " [   0.           34.         1520.88684082  586.10974121  225.25170898  174.87005615 1514.09072134 1061.06946131  511.57508809  115.92944666]\n",
            " [   0.           35.         1520.10302734  584.93981934  225.32897949  175.36279297 1514.32314651 1060.71355706  509.94947114  114.5117138 ]\n",
            " [   0.           36.         1520.12524414  584.9699707   225.20690918  175.40222168 1514.55557168 1061.35765282  508.32385419  113.09398094]\n",
            " [   0.           37.         1504.37963867  590.10137939  211.8828125   170.49829102 1506.78799686 1065.00174857  506.69823724  111.67624809]\n",
            " [   0.           38.         1522.6418457   590.54986572  223.04663086  173.61315918 1516.02042203 1065.64584433  505.07262029  110.25851523]\n",
            " [   0.           39.         1508.3145752   592.9743042   206.65136719  170.12011719 1509.25284721 1067.28994009  503.44700334  108.84078237]\n",
            " [   0.           40.         1524.85620117  592.10443115  223.9296875   172.2791748  1517.48527238 1067.93403584  501.82138639  107.42304951]\n",
            " [   0.           41.         1508.60620117  594.31030273  206.89221191  169.62356567 1509.71769756 1069.5781316   500.19576944  106.00531666]\n",
            " [   0.           42.         1514.51066081  592.62809245  212.30399577  171.1952006  1512.95012273 1069.22222735  498.57015249  104.5875838 ]\n",
            " [   0.           43.         1520.41512044  590.94588216  217.71577962  172.76683553 1516.1825479  1068.86632311  496.94453554  103.16985094]\n",
            " [   0.           44.         1526.31958008  590.26367188  223.12756348  174.33847046 1519.41497308 1069.51041887  495.31891859  101.75211808]\n",
            " [   0.           45.         1524.96813965  590.37231445  223.63989258  173.32159424 1518.64739825 1070.15451462  493.69330164  100.33438523]\n",
            " [   0.           46.         1508.88342285  594.52587891  207.81323242  169.30786133 1510.87982343 1072.79861038  492.06768469   98.91665237]\n",
            " [   0.           47.         1508.90466309  594.53570557  207.84838867  169.27954102 1511.1122486  1073.44270613  490.44206774   97.49891951]\n",
            " [   0.           48.         1508.86328125  594.43200684  207.30688477  169.55056763 1511.34467378 1074.08680189  488.81645079   96.08118666]\n",
            " [   0.           49.         1508.78991699  594.43221029  206.88273112  169.40497843 1511.57709895 1074.73089765  487.19083384   94.6634538 ]\n",
            " [   0.           50.         1508.71655273  594.43241374  206.45857747  169.25938924 1511.80952412 1075.3749934   485.56521689   93.24572094]\n",
            " [   0.           51.         1508.64318848  594.43261719  206.03442383  169.11380005 1512.0419493  1076.01908916  483.93959994   91.82798808]\n",
            " [   0.           52.         1506.58203125  596.21252441  205.77319336  170.6630249  1511.27437447 1077.66318491  482.31398299   90.41025523]\n",
            " [   0.           53.         1506.64111328  596.28924561  206.2434082   170.29980469 1511.50679965 1078.30728067  480.68836604   88.99252237]\n",
            " [   0.           54.         1510.63252767  596.80465698  210.14579264  170.06591288 1513.73922482 1078.95137643  479.06274909   87.57478951]\n",
            " [   0.           55.         1514.62394206  598.32006836  214.04817708  169.83202108 1515.97164999 1080.59547218  477.43713214   86.15705665]\n",
            " [   0.           56.         1518.61535645  598.83547974  217.95056152  169.59812927 1518.20407517 1081.23956794  475.81151519   84.7393238 ]\n",
            " [   0.           57.         1522.60677083  600.35089111  221.85294596  169.36423747 1520.43650034 1082.88366369  474.18589824   83.32159094]\n",
            " [   0.           58.         1526.59818522  600.86630249  225.7553304   169.13034566 1522.66892552 1083.52775945  472.56028129   81.90385808]\n",
            " [   0.           59.         1530.58959961  602.38171387  229.65771484  168.89645386 1524.90135069 1085.1718552   470.93466434   80.48612522]\n",
            " [   0.           60.         1528.7409668   602.85949707  228.56140137  169.40115356 1524.13377587 1085.81595096  469.30904739   79.06839237]\n",
            " [   0.           61.         1528.69775391  604.26220703  228.80126953  169.71774292 1524.36620104 1087.46004672  467.68343044   77.65065951]\n",
            " [   0.           62.         1528.68212891  604.31292725  228.79736328  169.7175293  1524.59862621 1088.10414247  466.05781349   76.23292665]\n",
            " [   0.           63.         1522.84521484  610.32727051  229.88476562  170.40557861 1521.83105139 1091.74823823  464.43219654   74.81519379]\n",
            " [   0.           64.         1514.08813477  612.55133057  232.32336426  166.26156616 1518.06347656 1093.39233398  462.80657959   73.39746094]\n",
            " [   0.           65.         1506.20776367  614.0715332   234.09265137  163.83612061 1516.33837891 1091.93737793  472.91125488   77.38061523]\n",
            " [   0.           66.         1506.29443359  614.0914917   234.19396973  163.73983765 1516.32861328 1092.11352539  472.88964844   77.20703125]\n",
            " [   0.           67.         1506.29443359  614.0914917   234.19396973  163.73983765 1497.0904541  1073.29138184  534.03149414  111.86309814]\n",
            " [   0.           68.         1506.29443359  614.0914917   234.19396973  163.73983765 1497.32995605 1073.23339844  534.50860596  111.75036621]\n",
            " [   0.           69.         1506.29443359  614.0914917   234.19396973  163.73983765 1457.33251953 1044.38916016  602.27044678  178.80102539]\n",
            " [   0.           70.         1506.29443359  614.0914917   234.19396973  163.73983765 1457.25292969 1044.50976562  602.31652832  178.62347412]\n",
            " [   0.           71.         1506.29443359  614.0914917   234.19396973  163.73983765 1446.21459961 1022.48254395  653.65808105  211.23809814]\n",
            " [   0.           72.         1506.29443359  614.0914917   234.19396973  163.73983765 1367.52270508  988.11401367  569.09729004  267.12701416]\n",
            " [   0.           73.         1506.29443359  614.0914917   234.19396973  163.73983765 1359.12169054  976.54074436  559.10120985  290.41181776]\n",
            " [   0.           74.         1506.29443359  614.0914917   234.19396973  163.73983765 1350.720676    964.96747504  549.10512967  313.69662137]\n",
            " [   0.           75.         1506.29443359  614.0914917   234.19396973  163.73983765 1342.31966146  953.39420573  539.10904948  336.98142497]\n",
            " [   0.           76.         1506.29443359  614.0914917   234.19396973  163.73983765 1333.91864692  941.82093641  529.11296929  360.26622857]\n",
            " [   0.           77.         1506.29443359  614.0914917   234.19396973  163.73983765 1325.51763238  930.2476671   519.11688911  383.55103217]\n",
            " [   0.           78.         1506.29443359  614.0914917   234.19396973  163.73983765 1317.11661784  918.67439779  509.12080892  406.83583577]\n",
            " [   0.           79.         1506.29443359  614.0914917   234.19396973  163.73983765 1308.7156033   907.10112847  499.12472873  430.12063938]\n",
            " [   0.           80.         1506.29443359  614.0914917   234.19396973  163.73983765 1300.31458876  895.52785916  489.12864855  453.40544298]\n",
            " [   0.           81.         1506.29443359  614.0914917   234.19396973  163.73983765 1291.91357422  883.95458984  479.13256836  476.69024658]\n",
            " [   0.           82.         1506.29443359  614.0914917   234.19396973  163.73983765 1293.59960938  883.40429688  480.25091553  477.97045898]\n",
            " [   0.           83.         1506.29443359  614.0914917   234.19396973  163.73983765 1283.65454102  878.55059814  489.18432617  488.6229248 ]\n",
            " [   0.           84.         1506.29443359  614.0914917   234.19396973  163.73983765 1280.67993164  877.01794434  490.27313232  491.93725586]\n",
            " [   0.           85.         1506.29443359  614.0914917   234.19396973  163.73983765 1279.19866943  872.13623047  495.8079834   501.31121826]\n",
            " [   0.           86.         1506.29443359  614.0914917   234.19396973  163.73983765 1417.82434082  868.93890381  530.14605713  521.4967041 ]\n",
            " [   0.           87.         1506.29443359  614.0914917   234.19396973  163.73983765 1468.25195312  867.86328125  553.21850586  528.90356445]\n",
            " [   0.           88.         1506.29443359  614.0914917   234.19396973  163.73983765 1480.77307129  862.16870117  576.91473389  538.86236572]\n",
            " [   0.           89.         1506.29443359  614.0914917   234.19396973  163.73983765 1484.07141113  860.18469238  593.68841553  541.95220947]\n",
            " [   0.           90.         1506.29443359  614.0914917   234.19396973  163.73983765 1483.60351562  855.1262207   614.21032715  549.26074219]\n",
            " [   0.           91.         1506.29443359  614.0914917   234.19396973  163.73983765 1482.49804688  853.19873047  629.35638428  551.89581299]\n",
            " [   0.           92.         1506.29443359  614.0914917   234.19396973  163.73983765 1466.46484375  851.67987061  638.98132324  551.53771973]\n",
            " [   0.           93.         1506.29443359  614.0914917   234.19396973  163.73983765 1459.52734375  850.99035645  648.18969727  551.29742432]\n",
            " [   0.           94.         1506.29443359  614.0914917   234.19396973  163.73983765 1452.3996582   851.71923828  655.34991455  550.35784912]\n",
            " [   0.           95.         1506.29443359  614.0914917   234.19396973  163.73983765 1447.34399414  851.66235352  661.4395752   549.45904541]\n",
            " [   0.           96.         1506.29443359  614.0914917   234.19396973  163.73983765 1444.890625    851.859375    666.99963379  548.52044678]\n",
            " [   0.           97.         1506.29443359  614.0914917   234.19396973  163.73983765 1446.63427734  853.23742676  670.01611328  547.18548584]\n",
            " [   0.           98.         1506.29443359  614.0914917   234.19396973  163.73983765 1447.02233887  853.60620117  673.27124023  546.34381104]\n",
            " [   0.           99.         1506.29443359  614.0914917   234.19396973  163.73983765 1450.31274414  855.69189453  670.31958008  540.52197266]\n",
            " [   0.          100.         1506.29443359  614.0914917   234.19396973  163.73983765 1451.28076172  856.73510742  671.01727295  537.93414307]\n",
            " [   0.          101.         1506.29443359  614.0914917   234.19396973  163.73983765 1451.37280273  859.03045654  670.94470215  534.80334473]\n",
            " [   0.          102.         1506.29443359  614.0914917   234.19396973  163.73983765 1451.04980469  859.9432373   674.23931885  534.8081665 ]\n",
            " [   0.          103.         1506.29443359  614.0914917   234.19396973  163.73983765 1445.32177734  858.91937256  676.67071533  534.64807129]\n",
            " [   0.          104.         1506.29443359  614.0914917   234.19396973  163.73983765 1442.94091797  858.53869629  678.9140625   534.52947998]\n",
            " [   0.          105.         1506.29443359  614.0914917   234.19396973  163.73983765 1440.3737793   855.7543335   684.68469238  537.70275879]\n",
            " [   0.          106.         1506.29443359  614.0914917   234.19396973  163.73983765 1440.04443359  855.9185791   685.93084717  537.40594482]\n",
            " [   0.          107.         1506.29443359  614.0914917   234.19396973  163.73983765 1440.32592773  855.89801025  687.55889893  537.66906738]\n",
            " [   0.          108.         1506.29443359  614.0914917   234.19396973  163.73983765 1439.9498291   859.26086426  683.56646729  532.93823242]\n",
            " [   0.          109.         1506.29443359  614.0914917   234.19396973  163.73983765 1438.26147461  860.46203613  683.23602295  531.15509033]\n",
            " [   0.          110.         1506.29443359  614.0914917   234.19396973  163.73983765 1437.38037109  861.02429199  684.31323242  530.66192627]\n",
            " [   0.          111.         1506.29443359  614.0914917   234.19396973  163.73983765 1437.10974121  862.20544434  680.78546143  525.8682251 ]\n",
            " [   0.          112.         1506.29443359  614.0914917   234.19396973  163.73983765 1436.86804199  862.68981934  680.73883057  524.03009033]\n",
            " [   0.          113.         1506.29443359  614.0914917   234.19396973  163.73983765 1436.73681641  862.85107422  685.38812256  526.41479492]\n",
            " [   0.          114.         1506.29443359  614.0914917   234.19396973  163.73983765 1436.63037109  863.03338623  687.96789551  527.37487793]\n",
            " [   0.          115.         1506.29443359  614.0914917   234.19396973  163.73983765 1437.29907227  862.26116943  690.31030273  528.28381348]]\n"
          ]
        }
      ],
      "source": [
        "# Debugging: check input\n",
        "\n",
        "with np.printoptions(threshold=sys.maxsize, suppress=True):\n",
        "    print(input)\n"
      ]
    },
    {
      "cell_type": "markdown",
      "metadata": {
        "id": "hvw-pehS1sti"
      },
      "source": [
        "### Tokenization"
      ]
    },
    {
      "cell_type": "code",
      "execution_count": 8,
      "metadata": {
        "scrolled": true,
        "id": "LFEw6Ob41stk",
        "colab": {
          "base_uri": "https://localhost:8080/"
        },
        "outputId": "65a4be47-c5ba-465d-90db-48841ec9c05d"
      },
      "outputs": [
        {
          "output_type": "stream",
          "name": "stdout",
          "text": [
            "[[-333.         -333.         -333.         -333.         -333.         -333.         -333.         -333.         -333.         -333.        ]\n",
            " [   0.            0.         1528.85791016  600.90942383  225.45043945  167.29650879  284.           20.            0.            0.        ]\n",
            " [   0.            1.         1528.85791016  600.90942383  225.45043945  167.29650879 1510.95019531 1083.32666016  470.2857666    83.98937988]\n",
            " [   0.            2.         1528.85791016  600.90942383  225.45043945  167.29650879 1511.59460449 1083.99261475  469.45433044   82.04003906]\n",
            " [   0.            3.         1528.85791016  600.90942383  225.45043945  167.29650879 1512.23901367 1084.65856934  468.62289429   80.09069824]\n",
            " [   0.            4.         1528.85791016  600.90942383  225.45043945  167.29650879 1512.88342285 1085.32452393  467.79145813   78.14135742]\n",
            " [   0.            5.         1528.85791016  600.90942383  225.45043945  167.29650879 1513.52783203 1085.99047852  466.96002197   76.1920166 ]\n",
            " [   0.            6.         1528.85791016  600.90942383  225.45043945  167.29650879 1514.17224121 1086.65643311  466.12858582   74.24267578]\n",
            " [   0.            7.         1528.85791016  600.90942383  225.45043945  167.29650879 1514.81665039 1087.3223877   465.29714966   72.29333496]\n",
            " [   0.            8.         1528.85791016  600.90942383  225.45043945  167.29650879 1515.46105957 1087.98834229  464.4657135    70.34399414]\n",
            " [   0.            9.         1528.85791016  600.90942383  225.45043945  167.29650879 1516.10546875 1088.65429688  463.63427734   68.39465332]\n",
            " [   0.           10.         1528.85791016  600.90942383  225.45043945  167.29650879 1515.53198242 1088.85217285  465.77380371   69.39624023]\n",
            " [   0.           11.         1528.85791016  600.90942383  225.45043945  167.29650879 1516.63183594 1088.66021729  464.31494141   70.16619873]\n",
            " [   0.           12.         1528.85791016  600.90942383  225.45043945  167.29650879 1517.73168945 1088.46826172  462.8560791    70.93615723]\n",
            " [   0.           13.         1528.85791016  600.90942383  225.45043945  167.29650879 1513.05322266 1086.91314697  477.03967285   74.18096924]\n",
            " [   0.           14.         1528.85791016  600.90942383  225.45043945  167.29650879 1508.37475586 1085.35803223  491.2232666    77.42578125]\n",
            " [   0.           15.         1498.40844727  588.65539551  213.51721191  170.90386963 1496.56176758 1067.66162109  518.02331543   98.32037354]\n",
            " [   0.           16.         1498.34631348  588.63989258  213.41748047  171.03735352 1496.68591309 1067.49987793  518.35668945   98.59277344]\n",
            " [   0.           17.         1498.65197754  588.52972412  213.17749023  171.11877441 1495.71618652 1066.64172363  515.19024658   99.6116333 ]\n",
            " [   0.           18.         1496.0871582   584.89794922  217.46337891  170.93695068 1494.17797852 1063.19848633  517.40222168  103.90539551]\n",
            " [   0.           19.         1496.2644043   584.87121582  217.72521973  170.67849731 1493.23657227 1062.82055664  515.91815186  103.99255371]\n",
            " [   0.           20.         1490.45837402  578.46685791  221.73706055  171.86752319 1495.52661133 1060.1640625   513.27874756  104.85632324]\n",
            " [   0.           21.         1490.3684082   578.42919922  221.53137207  171.80276489 1497.70648193 1057.16870117  518.44796753  112.12817383]\n",
            " [   0.           22.         1490.55224609  570.44836426  223.54504395  171.45095825 1560.70800781 1068.88183594  626.79968262   83.05810547]\n",
            " [   0.           23.         1490.54516602  566.32666016  224.82458496  170.18557739 1499.55517578 1051.20935059  527.83410645  116.40740967]\n",
            " [   0.           24.         1492.56860352  566.52087402  224.12890625  170.362854   1552.93774414 1054.00634766  626.17883301  105.2923584 ]\n",
            " [   0.           25.         1496.09313965  566.57824707  220.95483398  169.24090576 1547.85388184 1065.75561523  639.6784668    84.13952637]\n",
            " [   0.           26.         1496.17956543  566.53564453  220.9230957   169.1713562  1547.90283203 1065.74487305  639.66168213   84.2980957 ]\n",
            " [   0.           27.         1498.60559082  570.91467285  217.72119141  169.05340576 1501.46374512 1048.56079102  522.95440674  125.85357666]\n",
            " [   0.           28.         1500.77307129  578.50646973  216.61889648  167.71124268 1502.69617029 1053.20488677  521.32878979  124.4358438 ]\n",
            " [   0.           29.         1502.15454102  582.95446777  217.21032715  170.29162598 1503.92859547 1055.84898253  519.70317284  123.01811095]\n",
            " [   0.           30.         1502.11425781  582.9921875   217.54833984  170.43469238 1504.16102064 1056.49307828  518.07755589  121.60037809]\n",
            " [   0.           31.         1502.44543457  584.35565186  216.80102539  170.84912109 1504.39344581 1058.13717404  516.45193894  120.18264523]\n",
            " [   0.           32.         1506.53515625  586.93804932  211.83508301  169.7315979  1506.62587099 1059.7812698   514.82632199  118.76491237]\n",
            " [   0.           33.         1506.31604004  586.90856934  211.5715332   169.65725708 1506.85829616 1060.42536555  513.20070504  117.34717952]\n",
            " [   0.           34.         1520.88684082  586.10974121  225.25170898  174.87005615 1514.09072134 1061.06946131  511.57508809  115.92944666]\n",
            " [   0.           35.         1520.10302734  584.93981934  225.32897949  175.36279297 1514.32314651 1060.71355706  509.94947114  114.5117138 ]\n",
            " [   0.           36.         1520.12524414  584.9699707   225.20690918  175.40222168 1514.55557168 1061.35765282  508.32385419  113.09398094]\n",
            " [   0.           37.         1504.37963867  590.10137939  211.8828125   170.49829102 1506.78799686 1065.00174857  506.69823724  111.67624809]\n",
            " [   0.           38.         1522.6418457   590.54986572  223.04663086  173.61315918 1516.02042203 1065.64584433  505.07262029  110.25851523]\n",
            " [   0.           39.         1508.3145752   592.9743042   206.65136719  170.12011719 1509.25284721 1067.28994009  503.44700334  108.84078237]\n",
            " [   0.           40.         1524.85620117  592.10443115  223.9296875   172.2791748  1517.48527238 1067.93403584  501.82138639  107.42304951]\n",
            " [   0.           41.         1508.60620117  594.31030273  206.89221191  169.62356567 1509.71769756 1069.5781316   500.19576944  106.00531666]\n",
            " [   0.           42.         1514.51066081  592.62809245  212.30399577  171.1952006  1512.95012273 1069.22222735  498.57015249  104.5875838 ]\n",
            " [   0.           43.         1520.41512044  590.94588216  217.71577962  172.76683553 1516.1825479  1068.86632311  496.94453554  103.16985094]\n",
            " [   0.           44.         1526.31958008  590.26367188  223.12756348  174.33847046 1519.41497308 1069.51041887  495.31891859  101.75211808]\n",
            " [   0.           45.         1524.96813965  590.37231445  223.63989258  173.32159424 1518.64739825 1070.15451462  493.69330164  100.33438523]\n",
            " [   0.           46.         1508.88342285  594.52587891  207.81323242  169.30786133 1510.87982343 1072.79861038  492.06768469   98.91665237]\n",
            " [   0.           47.         1508.90466309  594.53570557  207.84838867  169.27954102 1511.1122486  1073.44270613  490.44206774   97.49891951]\n",
            " [   0.           48.         1508.86328125  594.43200684  207.30688477  169.55056763 1511.34467378 1074.08680189  488.81645079   96.08118666]\n",
            " [   0.           49.         1508.78991699  594.43221029  206.88273112  169.40497843 1511.57709895 1074.73089765  487.19083384   94.6634538 ]\n",
            " [   0.           50.         1508.71655273  594.43241374  206.45857747  169.25938924 1511.80952412 1075.3749934   485.56521689   93.24572094]\n",
            " [   0.           51.         1508.64318848  594.43261719  206.03442383  169.11380005 1512.0419493  1076.01908916  483.93959994   91.82798808]\n",
            " [   0.           52.         1506.58203125  596.21252441  205.77319336  170.6630249  1511.27437447 1077.66318491  482.31398299   90.41025523]\n",
            " [   0.           53.         1506.64111328  596.28924561  206.2434082   170.29980469 1511.50679965 1078.30728067  480.68836604   88.99252237]\n",
            " [   0.           54.         1510.63252767  596.80465698  210.14579264  170.06591288 1513.73922482 1078.95137643  479.06274909   87.57478951]\n",
            " [   0.           55.         1514.62394206  598.32006836  214.04817708  169.83202108 1515.97164999 1080.59547218  477.43713214   86.15705665]\n",
            " [   0.           56.         1518.61535645  598.83547974  217.95056152  169.59812927 1518.20407517 1081.23956794  475.81151519   84.7393238 ]\n",
            " [   0.           57.         1522.60677083  600.35089111  221.85294596  169.36423747 1520.43650034 1082.88366369  474.18589824   83.32159094]\n",
            " [   0.           58.         1526.59818522  600.86630249  225.7553304   169.13034566 1522.66892552 1083.52775945  472.56028129   81.90385808]\n",
            " [   0.           59.         1530.58959961  602.38171387  229.65771484  168.89645386 1524.90135069 1085.1718552   470.93466434   80.48612522]\n",
            " [   0.           60.         1528.7409668   602.85949707  228.56140137  169.40115356 1524.13377587 1085.81595096  469.30904739   79.06839237]\n",
            " [   0.           61.         1528.69775391  604.26220703  228.80126953  169.71774292 1524.36620104 1087.46004672  467.68343044   77.65065951]\n",
            " [   0.           62.         1528.68212891  604.31292725  228.79736328  169.7175293  1524.59862621 1088.10414247  466.05781349   76.23292665]\n",
            " [   0.           63.         1522.84521484  610.32727051  229.88476562  170.40557861 1521.83105139 1091.74823823  464.43219654   74.81519379]\n",
            " [   0.           64.         1514.08813477  612.55133057  232.32336426  166.26156616 1518.06347656 1093.39233398  462.80657959   73.39746094]\n",
            " [   0.           65.         1506.20776367  614.0715332   234.09265137  163.83612061 1516.33837891 1091.93737793  472.91125488   77.38061523]\n",
            " [   0.           66.         1506.29443359  614.0914917   234.19396973  163.73983765 1516.32861328 1092.11352539  472.88964844   77.20703125]\n",
            " [   0.           67.         1506.29443359  614.0914917   234.19396973  163.73983765 1497.0904541  1073.29138184  534.03149414  111.86309814]\n",
            " [   0.           68.         1506.29443359  614.0914917   234.19396973  163.73983765 1497.32995605 1073.23339844  534.50860596  111.75036621]\n",
            " [   0.           69.         1506.29443359  614.0914917   234.19396973  163.73983765 1457.33251953 1044.38916016  602.27044678  178.80102539]\n",
            " [   0.           70.         1506.29443359  614.0914917   234.19396973  163.73983765 1457.25292969 1044.50976562  602.31652832  178.62347412]\n",
            " [   0.           71.         1506.29443359  614.0914917   234.19396973  163.73983765 1446.21459961 1022.48254395  653.65808105  211.23809814]\n",
            " [   0.           72.         1506.29443359  614.0914917   234.19396973  163.73983765 1367.52270508  988.11401367  569.09729004  267.12701416]\n",
            " [   0.           73.         1506.29443359  614.0914917   234.19396973  163.73983765 1359.12169054  976.54074436  559.10120985  290.41181776]\n",
            " [   0.           74.         1506.29443359  614.0914917   234.19396973  163.73983765 1350.720676    964.96747504  549.10512967  313.69662137]\n",
            " [   0.           75.         1506.29443359  614.0914917   234.19396973  163.73983765 1342.31966146  953.39420573  539.10904948  336.98142497]\n",
            " [   0.           76.         1506.29443359  614.0914917   234.19396973  163.73983765 1333.91864692  941.82093641  529.11296929  360.26622857]\n",
            " [   0.           77.         1506.29443359  614.0914917   234.19396973  163.73983765 1325.51763238  930.2476671   519.11688911  383.55103217]\n",
            " [   0.           78.         1506.29443359  614.0914917   234.19396973  163.73983765 1317.11661784  918.67439779  509.12080892  406.83583577]\n",
            " [   0.           79.         1506.29443359  614.0914917   234.19396973  163.73983765 1308.7156033   907.10112847  499.12472873  430.12063938]\n",
            " [   0.           80.         1506.29443359  614.0914917   234.19396973  163.73983765 1300.31458876  895.52785916  489.12864855  453.40544298]\n",
            " [   0.           81.         1506.29443359  614.0914917   234.19396973  163.73983765 1291.91357422  883.95458984  479.13256836  476.69024658]\n",
            " [   0.           82.         1506.29443359  614.0914917   234.19396973  163.73983765 1293.59960938  883.40429688  480.25091553  477.97045898]\n",
            " [   0.           83.         1506.29443359  614.0914917   234.19396973  163.73983765 1283.65454102  878.55059814  489.18432617  488.6229248 ]\n",
            " [   0.           84.         1506.29443359  614.0914917   234.19396973  163.73983765 1280.67993164  877.01794434  490.27313232  491.93725586]\n",
            " [   0.           85.         1506.29443359  614.0914917   234.19396973  163.73983765 1279.19866943  872.13623047  495.8079834   501.31121826]\n",
            " [   0.           86.         1506.29443359  614.0914917   234.19396973  163.73983765 1417.82434082  868.93890381  530.14605713  521.4967041 ]\n",
            " [   0.           87.         1506.29443359  614.0914917   234.19396973  163.73983765 1468.25195312  867.86328125  553.21850586  528.90356445]\n",
            " [   0.           88.         1506.29443359  614.0914917   234.19396973  163.73983765 1480.77307129  862.16870117  576.91473389  538.86236572]\n",
            " [   0.           89.         1506.29443359  614.0914917   234.19396973  163.73983765 1484.07141113  860.18469238  593.68841553  541.95220947]\n",
            " [   0.           90.         1506.29443359  614.0914917   234.19396973  163.73983765 1483.60351562  855.1262207   614.21032715  549.26074219]\n",
            " [   0.           91.         1506.29443359  614.0914917   234.19396973  163.73983765 1482.49804688  853.19873047  629.35638428  551.89581299]\n",
            " [   0.           92.         1506.29443359  614.0914917   234.19396973  163.73983765 1466.46484375  851.67987061  638.98132324  551.53771973]\n",
            " [   0.           93.         1506.29443359  614.0914917   234.19396973  163.73983765 1459.52734375  850.99035645  648.18969727  551.29742432]\n",
            " [   0.           94.         1506.29443359  614.0914917   234.19396973  163.73983765 1452.3996582   851.71923828  655.34991455  550.35784912]\n",
            " [   0.           95.         1506.29443359  614.0914917   234.19396973  163.73983765 1447.34399414  851.66235352  661.4395752   549.45904541]\n",
            " [   0.           96.         1506.29443359  614.0914917   234.19396973  163.73983765 1444.890625    851.859375    666.99963379  548.52044678]\n",
            " [   0.           97.         1506.29443359  614.0914917   234.19396973  163.73983765 1446.63427734  853.23742676  670.01611328  547.18548584]\n",
            " [   0.           98.         1506.29443359  614.0914917   234.19396973  163.73983765 1447.02233887  853.60620117  673.27124023  546.34381104]\n",
            " [   0.           99.         1506.29443359  614.0914917   234.19396973  163.73983765 1450.31274414  855.69189453  670.31958008  540.52197266]\n",
            " [   0.          100.         1506.29443359  614.0914917   234.19396973  163.73983765 1451.28076172  856.73510742  671.01727295  537.93414307]\n",
            " [   0.          101.         1506.29443359  614.0914917   234.19396973  163.73983765 1451.37280273  859.03045654  670.94470215  534.80334473]\n",
            " [   0.          102.         1506.29443359  614.0914917   234.19396973  163.73983765 1451.04980469  859.9432373   674.23931885  534.8081665 ]\n",
            " [   0.          103.         1506.29443359  614.0914917   234.19396973  163.73983765 1445.32177734  858.91937256  676.67071533  534.64807129]\n",
            " [   0.          104.         1506.29443359  614.0914917   234.19396973  163.73983765 1442.94091797  858.53869629  678.9140625   534.52947998]\n",
            " [   0.          105.         1506.29443359  614.0914917   234.19396973  163.73983765 1440.3737793   855.7543335   684.68469238  537.70275879]\n",
            " [   0.          106.         1506.29443359  614.0914917   234.19396973  163.73983765 1440.04443359  855.9185791   685.93084717  537.40594482]\n",
            " [   0.          107.         1506.29443359  614.0914917   234.19396973  163.73983765 1440.32592773  855.89801025  687.55889893  537.66906738]\n",
            " [   0.          108.         1506.29443359  614.0914917   234.19396973  163.73983765 1439.9498291   859.26086426  683.56646729  532.93823242]\n",
            " [   0.          109.         1506.29443359  614.0914917   234.19396973  163.73983765 1438.26147461  860.46203613  683.23602295  531.15509033]\n",
            " [   0.          110.         1506.29443359  614.0914917   234.19396973  163.73983765 1437.38037109  861.02429199  684.31323242  530.66192627]\n",
            " [   0.          111.         1506.29443359  614.0914917   234.19396973  163.73983765 1437.10974121  862.20544434  680.78546143  525.8682251 ]\n",
            " [   0.          112.         1506.29443359  614.0914917   234.19396973  163.73983765 1436.86804199  862.68981934  680.73883057  524.03009033]\n",
            " [   0.          113.         1506.29443359  614.0914917   234.19396973  163.73983765 1436.73681641  862.85107422  685.38812256  526.41479492]\n",
            " [   0.          114.         1506.29443359  614.0914917   234.19396973  163.73983765 1436.63037109  863.03338623  687.96789551  527.37487793]\n",
            " [   0.          115.         1506.29443359  614.0914917   234.19396973  163.73983765 1437.29907227  862.26116943  690.31030273  528.28381348]]\n"
          ]
        }
      ],
      "source": [
        "# define tokens; has to be unusual in sequences (0 to max dim of video res) as well as labels (radiands: -2pi to 2pi)\n",
        "start_token = -333 # for seqs and labels\n",
        "end_token = -666 # for labels only (sequences do not need an end token, as they are all separated by start tokens)\n",
        "padding_token = -999 # for seqs only (labels are generated from padded sequences)\n",
        "\n",
        "# Slice data into single videos\n",
        "uniques = np.unique(input[:,0])\n",
        "sliced_seqs = []\n",
        "sliced_labels = []\n",
        "\n",
        "for vid in uniques:\n",
        "    # subset input per video and append to listin which each array is one video (sequence)\n",
        "    subset = input[input[:,0] == vid,:]\n",
        "    # prepend start token to sequence\n",
        "    subset = np.vstack([np.full((1, subset.shape[1]), start_token), subset])\n",
        "    with np.printoptions(threshold=sys.maxsize, suppress=True):\n",
        "        print(subset)\n",
        "    sliced_seqs.append(subset)"
      ]
    },
    {
      "cell_type": "markdown",
      "metadata": {
        "id": "Hip2Gql-1sto"
      },
      "source": [
        "### Batching"
      ]
    },
    {
      "cell_type": "code",
      "execution_count": 9,
      "metadata": {
        "id": "GERk4qGA1stq"
      },
      "outputs": [],
      "source": [
        "# create list that contains lists of size batch_size, each one containing single videos (sequences) as arrays\n",
        "BATCH_SIZE = 2\n",
        "seq_batches = [sliced_seqs[i:i+BATCH_SIZE] for i in range(0, len(sliced_seqs), BATCH_SIZE)]"
      ]
    },
    {
      "cell_type": "markdown",
      "metadata": {
        "id": "F6opARFs1sts"
      },
      "source": [
        "### Padding"
      ]
    },
    {
      "cell_type": "code",
      "execution_count": 10,
      "metadata": {
        "scrolled": true,
        "id": "8f47lSZU1stt",
        "colab": {
          "base_uri": "https://localhost:8080/"
        },
        "outputId": "ff62db97-6d81-40c8-b4ec-5b0d372f6d7f"
      },
      "outputs": [
        {
          "output_type": "stream",
          "name": "stdout",
          "text": [
            "[<tf.Tensor: shape=(117, 8), dtype=float64, numpy=\n",
            "array([[-333.        , -333.        , -333.        , -333.        , -333.        , -333.        , -333.        , -333.        ],\n",
            "       [1528.85791016,  600.90942383,  225.45043945,  167.29650879,  284.        ,   20.        ,    0.        ,    0.        ],\n",
            "       [1528.85791016,  600.90942383,  225.45043945,  167.29650879, 1510.95019531, 1083.32666016,  470.2857666 ,   83.98937988],\n",
            "       [1528.85791016,  600.90942383,  225.45043945,  167.29650879, 1511.59460449, 1083.99261475,  469.45433044,   82.04003906],\n",
            "       [1528.85791016,  600.90942383,  225.45043945,  167.29650879, 1512.23901367, 1084.65856934,  468.62289429,   80.09069824],\n",
            "       [1528.85791016,  600.90942383,  225.45043945,  167.29650879, 1512.88342285, 1085.32452393,  467.79145813,   78.14135742],\n",
            "       [1528.85791016,  600.90942383,  225.45043945,  167.29650879, 1513.52783203, 1085.99047852,  466.96002197,   76.1920166 ],\n",
            "       [1528.85791016,  600.90942383,  225.45043945,  167.29650879, 1514.17224121, 1086.65643311,  466.12858582,   74.24267578],\n",
            "       [1528.85791016,  600.90942383,  225.45043945,  167.29650879, 1514.81665039, 1087.3223877 ,  465.29714966,   72.29333496],\n",
            "       [1528.85791016,  600.90942383,  225.45043945,  167.29650879, 1515.46105957, 1087.98834229,  464.4657135 ,   70.34399414],\n",
            "       [1528.85791016,  600.90942383,  225.45043945,  167.29650879, 1516.10546875, 1088.65429688,  463.63427734,   68.39465332],\n",
            "       [1528.85791016,  600.90942383,  225.45043945,  167.29650879, 1515.53198242, 1088.85217285,  465.77380371,   69.39624023],\n",
            "       [1528.85791016,  600.90942383,  225.45043945,  167.29650879, 1516.63183594, 1088.66021729,  464.31494141,   70.16619873],\n",
            "       [1528.85791016,  600.90942383,  225.45043945,  167.29650879, 1517.73168945, 1088.46826172,  462.8560791 ,   70.93615723],\n",
            "       [1528.85791016,  600.90942383,  225.45043945,  167.29650879, 1513.05322266, 1086.91314697,  477.03967285,   74.18096924],\n",
            "       [1528.85791016,  600.90942383,  225.45043945,  167.29650879, 1508.37475586, 1085.35803223,  491.2232666 ,   77.42578125],\n",
            "       [1498.40844727,  588.65539551,  213.51721191,  170.90386963, 1496.56176758, 1067.66162109,  518.02331543,   98.32037354],\n",
            "       [1498.34631348,  588.63989258,  213.41748047,  171.03735352, 1496.68591309, 1067.49987793,  518.35668945,   98.59277344],\n",
            "       [1498.65197754,  588.52972412,  213.17749023,  171.11877441, 1495.71618652, 1066.64172363,  515.19024658,   99.6116333 ],\n",
            "       [1496.0871582 ,  584.89794922,  217.46337891,  170.93695068, 1494.17797852, 1063.19848633,  517.40222168,  103.90539551],\n",
            "       [1496.2644043 ,  584.87121582,  217.72521973,  170.67849731, 1493.23657227, 1062.82055664,  515.91815186,  103.99255371],\n",
            "       [1490.45837402,  578.46685791,  221.73706055,  171.86752319, 1495.52661133, 1060.1640625 ,  513.27874756,  104.85632324],\n",
            "       [1490.3684082 ,  578.42919922,  221.53137207,  171.80276489, 1497.70648193, 1057.16870117,  518.44796753,  112.12817383],\n",
            "       [1490.55224609,  570.44836426,  223.54504395,  171.45095825, 1560.70800781, 1068.88183594,  626.79968262,   83.05810547],\n",
            "       [1490.54516602,  566.32666016,  224.82458496,  170.18557739, 1499.55517578, 1051.20935059,  527.83410645,  116.40740967],\n",
            "       [1492.56860352,  566.52087402,  224.12890625,  170.362854  , 1552.93774414, 1054.00634766,  626.17883301,  105.2923584 ],\n",
            "       [1496.09313965,  566.57824707,  220.95483398,  169.24090576, 1547.85388184, 1065.75561523,  639.6784668 ,   84.13952637],\n",
            "       [1496.17956543,  566.53564453,  220.9230957 ,  169.1713562 , 1547.90283203, 1065.74487305,  639.66168213,   84.2980957 ],\n",
            "       [1498.60559082,  570.91467285,  217.72119141,  169.05340576, 1501.46374512, 1048.56079102,  522.95440674,  125.85357666],\n",
            "       [1500.77307129,  578.50646973,  216.61889648,  167.71124268, 1502.69617029, 1053.20488677,  521.32878979,  124.4358438 ],\n",
            "       [1502.15454102,  582.95446777,  217.21032715,  170.29162598, 1503.92859547, 1055.84898253,  519.70317284,  123.01811095],\n",
            "       [1502.11425781,  582.9921875 ,  217.54833984,  170.43469238, 1504.16102064, 1056.49307828,  518.07755589,  121.60037809],\n",
            "       [1502.44543457,  584.35565186,  216.80102539,  170.84912109, 1504.39344581, 1058.13717404,  516.45193894,  120.18264523],\n",
            "       [1506.53515625,  586.93804932,  211.83508301,  169.7315979 , 1506.62587099, 1059.7812698 ,  514.82632199,  118.76491237],\n",
            "       [1506.31604004,  586.90856934,  211.5715332 ,  169.65725708, 1506.85829616, 1060.42536555,  513.20070504,  117.34717952],\n",
            "       [1520.88684082,  586.10974121,  225.25170898,  174.87005615, 1514.09072134, 1061.06946131,  511.57508809,  115.92944666],\n",
            "       [1520.10302734,  584.93981934,  225.32897949,  175.36279297, 1514.32314651, 1060.71355706,  509.94947114,  114.5117138 ],\n",
            "       [1520.12524414,  584.9699707 ,  225.20690918,  175.40222168, 1514.55557168, 1061.35765282,  508.32385419,  113.09398094],\n",
            "       [1504.37963867,  590.10137939,  211.8828125 ,  170.49829102, 1506.78799686, 1065.00174857,  506.69823724,  111.67624809],\n",
            "       [1522.6418457 ,  590.54986572,  223.04663086,  173.61315918, 1516.02042203, 1065.64584433,  505.07262029,  110.25851523],\n",
            "       [1508.3145752 ,  592.9743042 ,  206.65136719,  170.12011719, 1509.25284721, 1067.28994009,  503.44700334,  108.84078237],\n",
            "       [1524.85620117,  592.10443115,  223.9296875 ,  172.2791748 , 1517.48527238, 1067.93403584,  501.82138639,  107.42304951],\n",
            "       [1508.60620117,  594.31030273,  206.89221191,  169.62356567, 1509.71769756, 1069.5781316 ,  500.19576944,  106.00531666],\n",
            "       [1514.51066081,  592.62809245,  212.30399577,  171.1952006 , 1512.95012273, 1069.22222735,  498.57015249,  104.5875838 ],\n",
            "       [1520.41512044,  590.94588216,  217.71577962,  172.76683553, 1516.1825479 , 1068.86632311,  496.94453554,  103.16985094],\n",
            "       [1526.31958008,  590.26367188,  223.12756348,  174.33847046, 1519.41497308, 1069.51041887,  495.31891859,  101.75211808],\n",
            "       [1524.96813965,  590.37231445,  223.63989258,  173.32159424, 1518.64739825, 1070.15451462,  493.69330164,  100.33438523],\n",
            "       [1508.88342285,  594.52587891,  207.81323242,  169.30786133, 1510.87982343, 1072.79861038,  492.06768469,   98.91665237],\n",
            "       [1508.90466309,  594.53570557,  207.84838867,  169.27954102, 1511.1122486 , 1073.44270613,  490.44206774,   97.49891951],\n",
            "       [1508.86328125,  594.43200684,  207.30688477,  169.55056763, 1511.34467378, 1074.08680189,  488.81645079,   96.08118666],\n",
            "       [1508.78991699,  594.43221029,  206.88273112,  169.40497843, 1511.57709895, 1074.73089765,  487.19083384,   94.6634538 ],\n",
            "       [1508.71655273,  594.43241374,  206.45857747,  169.25938924, 1511.80952412, 1075.3749934 ,  485.56521689,   93.24572094],\n",
            "       [1508.64318848,  594.43261719,  206.03442383,  169.11380005, 1512.0419493 , 1076.01908916,  483.93959994,   91.82798808],\n",
            "       [1506.58203125,  596.21252441,  205.77319336,  170.6630249 , 1511.27437447, 1077.66318491,  482.31398299,   90.41025523],\n",
            "       [1506.64111328,  596.28924561,  206.2434082 ,  170.29980469, 1511.50679965, 1078.30728067,  480.68836604,   88.99252237],\n",
            "       [1510.63252767,  596.80465698,  210.14579264,  170.06591288, 1513.73922482, 1078.95137643,  479.06274909,   87.57478951],\n",
            "       [1514.62394206,  598.32006836,  214.04817708,  169.83202108, 1515.97164999, 1080.59547218,  477.43713214,   86.15705665],\n",
            "       [1518.61535645,  598.83547974,  217.95056152,  169.59812927, 1518.20407517, 1081.23956794,  475.81151519,   84.7393238 ],\n",
            "       [1522.60677083,  600.35089111,  221.85294596,  169.36423747, 1520.43650034, 1082.88366369,  474.18589824,   83.32159094],\n",
            "       [1526.59818522,  600.86630249,  225.7553304 ,  169.13034566, 1522.66892552, 1083.52775945,  472.56028129,   81.90385808],\n",
            "       [1530.58959961,  602.38171387,  229.65771484,  168.89645386, 1524.90135069, 1085.1718552 ,  470.93466434,   80.48612522],\n",
            "       [1528.7409668 ,  602.85949707,  228.56140137,  169.40115356, 1524.13377587, 1085.81595096,  469.30904739,   79.06839237],\n",
            "       [1528.69775391,  604.26220703,  228.80126953,  169.71774292, 1524.36620104, 1087.46004672,  467.68343044,   77.65065951],\n",
            "       [1528.68212891,  604.31292725,  228.79736328,  169.7175293 , 1524.59862621, 1088.10414247,  466.05781349,   76.23292665],\n",
            "       [1522.84521484,  610.32727051,  229.88476562,  170.40557861, 1521.83105139, 1091.74823823,  464.43219654,   74.81519379],\n",
            "       [1514.08813477,  612.55133057,  232.32336426,  166.26156616, 1518.06347656, 1093.39233398,  462.80657959,   73.39746094],\n",
            "       [1506.20776367,  614.0715332 ,  234.09265137,  163.83612061, 1516.33837891, 1091.93737793,  472.91125488,   77.38061523],\n",
            "       [1506.29443359,  614.0914917 ,  234.19396973,  163.73983765, 1516.32861328, 1092.11352539,  472.88964844,   77.20703125],\n",
            "       [1506.29443359,  614.0914917 ,  234.19396973,  163.73983765, 1497.0904541 , 1073.29138184,  534.03149414,  111.86309814],\n",
            "       [1506.29443359,  614.0914917 ,  234.19396973,  163.73983765, 1497.32995605, 1073.23339844,  534.50860596,  111.75036621],\n",
            "       [1506.29443359,  614.0914917 ,  234.19396973,  163.73983765, 1457.33251953, 1044.38916016,  602.27044678,  178.80102539],\n",
            "       [1506.29443359,  614.0914917 ,  234.19396973,  163.73983765, 1457.25292969, 1044.50976562,  602.31652832,  178.62347412],\n",
            "       [1506.29443359,  614.0914917 ,  234.19396973,  163.73983765, 1446.21459961, 1022.48254395,  653.65808105,  211.23809814],\n",
            "       [1506.29443359,  614.0914917 ,  234.19396973,  163.73983765, 1367.52270508,  988.11401367,  569.09729004,  267.12701416],\n",
            "       [1506.29443359,  614.0914917 ,  234.19396973,  163.73983765, 1359.12169054,  976.54074436,  559.10120985,  290.41181776],\n",
            "       [1506.29443359,  614.0914917 ,  234.19396973,  163.73983765, 1350.720676  ,  964.96747504,  549.10512967,  313.69662137],\n",
            "       [1506.29443359,  614.0914917 ,  234.19396973,  163.73983765, 1342.31966146,  953.39420573,  539.10904948,  336.98142497],\n",
            "       [1506.29443359,  614.0914917 ,  234.19396973,  163.73983765, 1333.91864692,  941.82093641,  529.11296929,  360.26622857],\n",
            "       [1506.29443359,  614.0914917 ,  234.19396973,  163.73983765, 1325.51763238,  930.2476671 ,  519.11688911,  383.55103217],\n",
            "       [1506.29443359,  614.0914917 ,  234.19396973,  163.73983765, 1317.11661784,  918.67439779,  509.12080892,  406.83583577],\n",
            "       [1506.29443359,  614.0914917 ,  234.19396973,  163.73983765, 1308.7156033 ,  907.10112847,  499.12472873,  430.12063938],\n",
            "       [1506.29443359,  614.0914917 ,  234.19396973,  163.73983765, 1300.31458876,  895.52785916,  489.12864855,  453.40544298],\n",
            "       [1506.29443359,  614.0914917 ,  234.19396973,  163.73983765, 1291.91357422,  883.95458984,  479.13256836,  476.69024658],\n",
            "       [1506.29443359,  614.0914917 ,  234.19396973,  163.73983765, 1293.59960938,  883.40429688,  480.25091553,  477.97045898],\n",
            "       [1506.29443359,  614.0914917 ,  234.19396973,  163.73983765, 1283.65454102,  878.55059814,  489.18432617,  488.6229248 ],\n",
            "       [1506.29443359,  614.0914917 ,  234.19396973,  163.73983765, 1280.67993164,  877.01794434,  490.27313232,  491.93725586],\n",
            "       [1506.29443359,  614.0914917 ,  234.19396973,  163.73983765, 1279.19866943,  872.13623047,  495.8079834 ,  501.31121826],\n",
            "       [1506.29443359,  614.0914917 ,  234.19396973,  163.73983765, 1417.82434082,  868.93890381,  530.14605713,  521.4967041 ],\n",
            "       [1506.29443359,  614.0914917 ,  234.19396973,  163.73983765, 1468.25195312,  867.86328125,  553.21850586,  528.90356445],\n",
            "       [1506.29443359,  614.0914917 ,  234.19396973,  163.73983765, 1480.77307129,  862.16870117,  576.91473389,  538.86236572],\n",
            "       [1506.29443359,  614.0914917 ,  234.19396973,  163.73983765, 1484.07141113,  860.18469238,  593.68841553,  541.95220947],\n",
            "       [1506.29443359,  614.0914917 ,  234.19396973,  163.73983765, 1483.60351562,  855.1262207 ,  614.21032715,  549.26074219],\n",
            "       [1506.29443359,  614.0914917 ,  234.19396973,  163.73983765, 1482.49804688,  853.19873047,  629.35638428,  551.89581299],\n",
            "       [1506.29443359,  614.0914917 ,  234.19396973,  163.73983765, 1466.46484375,  851.67987061,  638.98132324,  551.53771973],\n",
            "       [1506.29443359,  614.0914917 ,  234.19396973,  163.73983765, 1459.52734375,  850.99035645,  648.18969727,  551.29742432],\n",
            "       [1506.29443359,  614.0914917 ,  234.19396973,  163.73983765, 1452.3996582 ,  851.71923828,  655.34991455,  550.35784912],\n",
            "       [1506.29443359,  614.0914917 ,  234.19396973,  163.73983765, 1447.34399414,  851.66235352,  661.4395752 ,  549.45904541],\n",
            "       [1506.29443359,  614.0914917 ,  234.19396973,  163.73983765, 1444.890625  ,  851.859375  ,  666.99963379,  548.52044678],\n",
            "       [1506.29443359,  614.0914917 ,  234.19396973,  163.73983765, 1446.63427734,  853.23742676,  670.01611328,  547.18548584],\n",
            "       [1506.29443359,  614.0914917 ,  234.19396973,  163.73983765, 1447.02233887,  853.60620117,  673.27124023,  546.34381104],\n",
            "       [1506.29443359,  614.0914917 ,  234.19396973,  163.73983765, 1450.31274414,  855.69189453,  670.31958008,  540.52197266],\n",
            "       [1506.29443359,  614.0914917 ,  234.19396973,  163.73983765, 1451.28076172,  856.73510742,  671.01727295,  537.93414307],\n",
            "       [1506.29443359,  614.0914917 ,  234.19396973,  163.73983765, 1451.37280273,  859.03045654,  670.94470215,  534.80334473],\n",
            "       [1506.29443359,  614.0914917 ,  234.19396973,  163.73983765, 1451.04980469,  859.9432373 ,  674.23931885,  534.8081665 ],\n",
            "       [1506.29443359,  614.0914917 ,  234.19396973,  163.73983765, 1445.32177734,  858.91937256,  676.67071533,  534.64807129],\n",
            "       [1506.29443359,  614.0914917 ,  234.19396973,  163.73983765, 1442.94091797,  858.53869629,  678.9140625 ,  534.52947998],\n",
            "       [1506.29443359,  614.0914917 ,  234.19396973,  163.73983765, 1440.3737793 ,  855.7543335 ,  684.68469238,  537.70275879],\n",
            "       [1506.29443359,  614.0914917 ,  234.19396973,  163.73983765, 1440.04443359,  855.9185791 ,  685.93084717,  537.40594482],\n",
            "       [1506.29443359,  614.0914917 ,  234.19396973,  163.73983765, 1440.32592773,  855.89801025,  687.55889893,  537.66906738],\n",
            "       [1506.29443359,  614.0914917 ,  234.19396973,  163.73983765, 1439.9498291 ,  859.26086426,  683.56646729,  532.93823242],\n",
            "       [1506.29443359,  614.0914917 ,  234.19396973,  163.73983765, 1438.26147461,  860.46203613,  683.23602295,  531.15509033],\n",
            "       [1506.29443359,  614.0914917 ,  234.19396973,  163.73983765, 1437.38037109,  861.02429199,  684.31323242,  530.66192627],\n",
            "       [1506.29443359,  614.0914917 ,  234.19396973,  163.73983765, 1437.10974121,  862.20544434,  680.78546143,  525.8682251 ],\n",
            "       [1506.29443359,  614.0914917 ,  234.19396973,  163.73983765, 1436.86804199,  862.68981934,  680.73883057,  524.03009033],\n",
            "       [1506.29443359,  614.0914917 ,  234.19396973,  163.73983765, 1436.73681641,  862.85107422,  685.38812256,  526.41479492],\n",
            "       [1506.29443359,  614.0914917 ,  234.19396973,  163.73983765, 1436.63037109,  863.03338623,  687.96789551,  527.37487793],\n",
            "       [1506.29443359,  614.0914917 ,  234.19396973,  163.73983765, 1437.29907227,  862.26116943,  690.31030273,  528.28381348]])>]\n"
          ]
        }
      ],
      "source": [
        "# Pad sequences to the maximum sequence length within each batch\n",
        "padded_seq_batches = []\n",
        "for batch in seq_batches:\n",
        "    max_length = max(seq.shape[0] for seq in batch)\n",
        "    # [:,2:] slices the sequence to remove columns for video count and frame count\n",
        "    padded_batch = [tf.pad(seq[:,2:], paddings=[[max_length - seq.shape[0], 0], [0, 0]], mode=\"CONSTANT\", constant_values=padding_token) for seq in batch]\n",
        "    with np.printoptions(threshold=sys.maxsize, suppress=True):\n",
        "        print(padded_batch)\n",
        "    padded_seq_batches.append(tf.stack(padded_batch))"
      ]
    },
    {
      "cell_type": "markdown",
      "metadata": {
        "jp-MarkdownHeadingCollapsed": true,
        "id": "lSiRhCJg1stu"
      },
      "source": [
        "## Create labels Y"
      ]
    },
    {
      "cell_type": "code",
      "execution_count": 11,
      "metadata": {
        "id": "owAYjTd_1stw"
      },
      "outputs": [],
      "source": [
        "padded_lbl_batches = []\n",
        "for batch in padded_seq_batches:\n",
        "    labels = []\n",
        "\n",
        "    for seq in batch:\n",
        "        seq = seq.numpy()\n",
        "        lbl = np.zeros((seq.shape[0], 1))\n",
        "\n",
        "        for row in range(lbl.shape[0]):\n",
        "\n",
        "            # sos tokens\n",
        "            if np.all(seq[row] == start_token):\n",
        "                lbl[row] = start_token\n",
        "                continue\n",
        "\n",
        "            # padding tokens\n",
        "            if np.all(seq[row] == padding_token):\n",
        "                lbl[row] = padding_token\n",
        "                continue\n",
        "\n",
        "\n",
        "            # EOS token if hand overlaps with target (with a little wiggle room epsilon)\n",
        "            EPSILON = 100 # what is a good range?\n",
        "            object_loc = np.array(seq[row, 0], seq[row, 1])\n",
        "            hand_loc = np.array(seq[row, 4], seq[row, 5])\n",
        "\n",
        "            # this implementation entails that after an EOS token, there do not necessarily have to follow EOS tokens until the end\n",
        "            # -> good or bad for training/ online application?\n",
        "            if np.linalg.norm(hand_loc - object_loc) < EPSILON or row == len(seq):\n",
        "                lbl[row] = end_token\n",
        "                continue\n",
        "\n",
        "            # else neither start- nor end-token -> calculate angle\n",
        "            lbl[row] = np.arctan2(seq[row,7] - seq[row+1,7], seq[row,6] - seq[row+1,6]) # angle between current and next frame\n",
        "\n",
        "        labels.append(lbl)\n",
        "\n",
        "    padded_lbl_batches.append(tf.stack(labels))\n"
      ]
    },
    {
      "cell_type": "code",
      "execution_count": 12,
      "metadata": {
        "id": "3xkT2VYW1stx",
        "colab": {
          "base_uri": "https://localhost:8080/",
          "height": 35
        },
        "outputId": "c00b809c-3859-4b69-cfa8-3e6c1b86025f"
      },
      "outputs": [
        {
          "output_type": "execute_result",
          "data": {
            "text/plain": [
              "'\\nwith np.printoptions(threshold=sys.maxsize, suppress=True):\\n    print(padded_seq_batches)\\n    print()\\n    print(padded_lbl_batches)\\n'"
            ],
            "application/vnd.google.colaboratory.intrinsic+json": {
              "type": "string"
            }
          },
          "metadata": {},
          "execution_count": 12
        }
      ],
      "source": [
        "# Debugging: check padded sequences and corresponding labels\n",
        "\"\"\"\n",
        "with np.printoptions(threshold=sys.maxsize, suppress=True):\n",
        "    print(padded_seq_batches)\n",
        "    print()\n",
        "    print(padded_lbl_batches)\n",
        "\"\"\""
      ]
    },
    {
      "cell_type": "markdown",
      "metadata": {
        "jp-MarkdownHeadingCollapsed": true,
        "id": "oZCBdedo1st0"
      },
      "source": [
        "## Create Dataset"
      ]
    },
    {
      "cell_type": "code",
      "execution_count": 13,
      "metadata": {
        "scrolled": true,
        "id": "VIK0vWza1st1"
      },
      "outputs": [],
      "source": [
        "# Define a generator function to yield each sequence batch\n",
        "def seq_generator():\n",
        "    for batch in padded_seq_batches:\n",
        "        yield batch\n",
        "\n",
        "# Define a generator function to yield each label batch\n",
        "def lbl_generator():\n",
        "    for batch in padded_lbl_batches:\n",
        "        yield batch\n",
        "\n",
        "# Create a tf.data.Dataset from the generator\n",
        "X = tf.data.Dataset.from_generator(seq_generator, output_signature=tf.TensorSpec(shape=(BATCH_SIZE, None, 8), dtype=tf.float32))\n",
        "Y = tf.data.Dataset.from_generator(lbl_generator, output_signature=tf.TensorSpec(shape=(BATCH_SIZE, None, 1), dtype=tf.float32))\n",
        "train_ds = tf.data.Dataset.zip((X, Y))"
      ]
    },
    {
      "cell_type": "code",
      "execution_count": 14,
      "metadata": {
        "scrolled": true,
        "id": "7uYr7zco1st4",
        "colab": {
          "base_uri": "https://localhost:8080/",
          "height": 53
        },
        "outputId": "61dd03a8-b85b-4c01-8978-45eb7395ea46"
      },
      "outputs": [
        {
          "output_type": "execute_result",
          "data": {
            "text/plain": [
              "'\\n# Print at most the first 5 examples from the train dataset\\nfor i, (train_data, label_data) in enumerate(train_ds):\\n    if i < 5:\\n        print(f\"Training pair: {i}\")\\n        print(\"Train Data:\")\\n        print(train_data.shape)\\n        print(train_data.numpy())\\n        print()\\n        print(\"Label Data:\")\\n        print(label_data.shape)\\n        print(label_data.numpy())\\n        print()\\n'"
            ],
            "application/vnd.google.colaboratory.intrinsic+json": {
              "type": "string"
            }
          },
          "metadata": {},
          "execution_count": 14
        }
      ],
      "source": [
        "# Debugging\n",
        "\"\"\"\n",
        "# Print at most the first 5 examples from the train dataset\n",
        "for i, (train_data, label_data) in enumerate(train_ds):\n",
        "    if i < 5:\n",
        "        print(f\"Training pair: {i}\")\n",
        "        print(\"Train Data:\")\n",
        "        print(train_data.shape)\n",
        "        print(train_data.numpy())\n",
        "        print()\n",
        "        print(\"Label Data:\")\n",
        "        print(label_data.shape)\n",
        "        print(label_data.numpy())\n",
        "        print()\n",
        "\"\"\""
      ]
    },
    {
      "cell_type": "markdown",
      "metadata": {
        "id": "T_WovMNi1st8"
      },
      "source": [
        "### Export dataset"
      ]
    },
    {
      "cell_type": "code",
      "execution_count": 15,
      "metadata": {
        "id": "HGavDHp81st9",
        "colab": {
          "base_uri": "https://localhost:8080/",
          "height": 686
        },
        "outputId": "a20adc4a-c906-4c75-83c9-25a95500310f"
      },
      "outputs": [
        {
          "output_type": "error",
          "ename": "InvalidArgumentError",
          "evalue": "ignored",
          "traceback": [
            "\u001b[0;31m---------------------------------------------------------------------------\u001b[0m",
            "\u001b[0;31mInvalidArgumentError\u001b[0m                      Traceback (most recent call last)",
            "\u001b[0;32m<ipython-input-15-0d7ae858b3cf>\u001b[0m in \u001b[0;36m<cell line: 6>\u001b[0;34m()\u001b[0m\n\u001b[1;32m      5\u001b[0m \u001b[0moptions\u001b[0m \u001b[0;34m=\u001b[0m \u001b[0mtf\u001b[0m\u001b[0;34m.\u001b[0m\u001b[0mio\u001b[0m\u001b[0;34m.\u001b[0m\u001b[0mTFRecordOptions\u001b[0m\u001b[0;34m(\u001b[0m\u001b[0mcompression_type\u001b[0m\u001b[0;34m=\u001b[0m\u001b[0;34m'GZIP'\u001b[0m\u001b[0;34m)\u001b[0m\u001b[0;34m\u001b[0m\u001b[0;34m\u001b[0m\u001b[0m\n\u001b[1;32m      6\u001b[0m \u001b[0;32mwith\u001b[0m \u001b[0mtf\u001b[0m\u001b[0;34m.\u001b[0m\u001b[0mio\u001b[0m\u001b[0;34m.\u001b[0m\u001b[0mTFRecordWriter\u001b[0m\u001b[0;34m(\u001b[0m\u001b[0mexport_path\u001b[0m\u001b[0;34m,\u001b[0m \u001b[0moptions\u001b[0m\u001b[0;34m=\u001b[0m\u001b[0moptions\u001b[0m\u001b[0;34m)\u001b[0m \u001b[0;32mas\u001b[0m \u001b[0mwriter\u001b[0m\u001b[0;34m:\u001b[0m\u001b[0;34m\u001b[0m\u001b[0;34m\u001b[0m\u001b[0m\n\u001b[0;32m----> 7\u001b[0;31m     \u001b[0;32mfor\u001b[0m \u001b[0mexample_x\u001b[0m\u001b[0;34m,\u001b[0m \u001b[0mexample_y\u001b[0m \u001b[0;32min\u001b[0m \u001b[0mtrain_ds\u001b[0m\u001b[0;34m:\u001b[0m\u001b[0;34m\u001b[0m\u001b[0;34m\u001b[0m\u001b[0m\n\u001b[0m\u001b[1;32m      8\u001b[0m         tf_example = tf.train.Example(features=tf.train.Features(\n\u001b[1;32m      9\u001b[0m             feature={\n",
            "\u001b[0;32m/usr/local/lib/python3.10/dist-packages/tensorflow/python/data/ops/iterator_ops.py\u001b[0m in \u001b[0;36m__next__\u001b[0;34m(self)\u001b[0m\n\u001b[1;32m    807\u001b[0m   \u001b[0;32mdef\u001b[0m \u001b[0m__next__\u001b[0m\u001b[0;34m(\u001b[0m\u001b[0mself\u001b[0m\u001b[0;34m)\u001b[0m\u001b[0;34m:\u001b[0m\u001b[0;34m\u001b[0m\u001b[0;34m\u001b[0m\u001b[0m\n\u001b[1;32m    808\u001b[0m     \u001b[0;32mtry\u001b[0m\u001b[0;34m:\u001b[0m\u001b[0;34m\u001b[0m\u001b[0;34m\u001b[0m\u001b[0m\n\u001b[0;32m--> 809\u001b[0;31m       \u001b[0;32mreturn\u001b[0m \u001b[0mself\u001b[0m\u001b[0;34m.\u001b[0m\u001b[0m_next_internal\u001b[0m\u001b[0;34m(\u001b[0m\u001b[0;34m)\u001b[0m\u001b[0;34m\u001b[0m\u001b[0;34m\u001b[0m\u001b[0m\n\u001b[0m\u001b[1;32m    810\u001b[0m     \u001b[0;32mexcept\u001b[0m \u001b[0merrors\u001b[0m\u001b[0;34m.\u001b[0m\u001b[0mOutOfRangeError\u001b[0m\u001b[0;34m:\u001b[0m\u001b[0;34m\u001b[0m\u001b[0;34m\u001b[0m\u001b[0m\n\u001b[1;32m    811\u001b[0m       \u001b[0;32mraise\u001b[0m \u001b[0mStopIteration\u001b[0m\u001b[0;34m\u001b[0m\u001b[0;34m\u001b[0m\u001b[0m\n",
            "\u001b[0;32m/usr/local/lib/python3.10/dist-packages/tensorflow/python/data/ops/iterator_ops.py\u001b[0m in \u001b[0;36m_next_internal\u001b[0;34m(self)\u001b[0m\n\u001b[1;32m    770\u001b[0m     \u001b[0;31m# to communicate that there is no more data to iterate over.\u001b[0m\u001b[0;34m\u001b[0m\u001b[0;34m\u001b[0m\u001b[0m\n\u001b[1;32m    771\u001b[0m     \u001b[0;32mwith\u001b[0m \u001b[0mcontext\u001b[0m\u001b[0;34m.\u001b[0m\u001b[0mexecution_mode\u001b[0m\u001b[0;34m(\u001b[0m\u001b[0mcontext\u001b[0m\u001b[0;34m.\u001b[0m\u001b[0mSYNC\u001b[0m\u001b[0;34m)\u001b[0m\u001b[0;34m:\u001b[0m\u001b[0;34m\u001b[0m\u001b[0;34m\u001b[0m\u001b[0m\n\u001b[0;32m--> 772\u001b[0;31m       ret = gen_dataset_ops.iterator_get_next(\n\u001b[0m\u001b[1;32m    773\u001b[0m           \u001b[0mself\u001b[0m\u001b[0;34m.\u001b[0m\u001b[0m_iterator_resource\u001b[0m\u001b[0;34m,\u001b[0m\u001b[0;34m\u001b[0m\u001b[0;34m\u001b[0m\u001b[0m\n\u001b[1;32m    774\u001b[0m           \u001b[0moutput_types\u001b[0m\u001b[0;34m=\u001b[0m\u001b[0mself\u001b[0m\u001b[0;34m.\u001b[0m\u001b[0m_flat_output_types\u001b[0m\u001b[0;34m,\u001b[0m\u001b[0;34m\u001b[0m\u001b[0;34m\u001b[0m\u001b[0m\n",
            "\u001b[0;32m/usr/local/lib/python3.10/dist-packages/tensorflow/python/ops/gen_dataset_ops.py\u001b[0m in \u001b[0;36miterator_get_next\u001b[0;34m(iterator, output_types, output_shapes, name)\u001b[0m\n\u001b[1;32m   3026\u001b[0m       \u001b[0;32mreturn\u001b[0m \u001b[0m_result\u001b[0m\u001b[0;34m\u001b[0m\u001b[0;34m\u001b[0m\u001b[0m\n\u001b[1;32m   3027\u001b[0m     \u001b[0;32mexcept\u001b[0m \u001b[0m_core\u001b[0m\u001b[0;34m.\u001b[0m\u001b[0m_NotOkStatusException\u001b[0m \u001b[0;32mas\u001b[0m \u001b[0me\u001b[0m\u001b[0;34m:\u001b[0m\u001b[0;34m\u001b[0m\u001b[0;34m\u001b[0m\u001b[0m\n\u001b[0;32m-> 3028\u001b[0;31m       \u001b[0m_ops\u001b[0m\u001b[0;34m.\u001b[0m\u001b[0mraise_from_not_ok_status\u001b[0m\u001b[0;34m(\u001b[0m\u001b[0me\u001b[0m\u001b[0;34m,\u001b[0m \u001b[0mname\u001b[0m\u001b[0;34m)\u001b[0m\u001b[0;34m\u001b[0m\u001b[0;34m\u001b[0m\u001b[0m\n\u001b[0m\u001b[1;32m   3029\u001b[0m     \u001b[0;32mexcept\u001b[0m \u001b[0m_core\u001b[0m\u001b[0;34m.\u001b[0m\u001b[0m_FallbackException\u001b[0m\u001b[0;34m:\u001b[0m\u001b[0;34m\u001b[0m\u001b[0;34m\u001b[0m\u001b[0m\n\u001b[1;32m   3030\u001b[0m       \u001b[0;32mpass\u001b[0m\u001b[0;34m\u001b[0m\u001b[0;34m\u001b[0m\u001b[0m\n",
            "\u001b[0;32m/usr/local/lib/python3.10/dist-packages/tensorflow/python/framework/ops.py\u001b[0m in \u001b[0;36mraise_from_not_ok_status\u001b[0;34m(e, name)\u001b[0m\n\u001b[1;32m   5886\u001b[0m \u001b[0;32mdef\u001b[0m \u001b[0mraise_from_not_ok_status\u001b[0m\u001b[0;34m(\u001b[0m\u001b[0me\u001b[0m\u001b[0;34m,\u001b[0m \u001b[0mname\u001b[0m\u001b[0;34m)\u001b[0m \u001b[0;34m->\u001b[0m \u001b[0mNoReturn\u001b[0m\u001b[0;34m:\u001b[0m\u001b[0;34m\u001b[0m\u001b[0;34m\u001b[0m\u001b[0m\n\u001b[1;32m   5887\u001b[0m   \u001b[0me\u001b[0m\u001b[0;34m.\u001b[0m\u001b[0mmessage\u001b[0m \u001b[0;34m+=\u001b[0m \u001b[0;34m(\u001b[0m\u001b[0;34m\" name: \"\u001b[0m \u001b[0;34m+\u001b[0m \u001b[0mstr\u001b[0m\u001b[0;34m(\u001b[0m\u001b[0mname\u001b[0m \u001b[0;32mif\u001b[0m \u001b[0mname\u001b[0m \u001b[0;32mis\u001b[0m \u001b[0;32mnot\u001b[0m \u001b[0;32mNone\u001b[0m \u001b[0;32melse\u001b[0m \u001b[0;34m\"\"\u001b[0m\u001b[0;34m)\u001b[0m\u001b[0;34m)\u001b[0m\u001b[0;34m\u001b[0m\u001b[0;34m\u001b[0m\u001b[0m\n\u001b[0;32m-> 5888\u001b[0;31m   \u001b[0;32mraise\u001b[0m \u001b[0mcore\u001b[0m\u001b[0;34m.\u001b[0m\u001b[0m_status_to_exception\u001b[0m\u001b[0;34m(\u001b[0m\u001b[0me\u001b[0m\u001b[0;34m)\u001b[0m \u001b[0;32mfrom\u001b[0m \u001b[0;32mNone\u001b[0m  \u001b[0;31m# pylint: disable=protected-access\u001b[0m\u001b[0;34m\u001b[0m\u001b[0;34m\u001b[0m\u001b[0m\n\u001b[0m\u001b[1;32m   5889\u001b[0m \u001b[0;34m\u001b[0m\u001b[0m\n\u001b[1;32m   5890\u001b[0m \u001b[0;34m\u001b[0m\u001b[0m\n",
            "\u001b[0;31mInvalidArgumentError\u001b[0m: {{function_node __wrapped__IteratorGetNext_output_types_2_device_/job:localhost/replica:0/task:0/device:CPU:0}} TypeError: `generator` yielded an element of shape (1, 117, 8) where an element of shape (2, None, 8) was expected.\nTraceback (most recent call last):\n\n  File \"/usr/local/lib/python3.10/dist-packages/tensorflow/python/ops/script_ops.py\", line 270, in __call__\n    ret = func(*args)\n\n  File \"/usr/local/lib/python3.10/dist-packages/tensorflow/python/autograph/impl/api.py\", line 643, in wrapper\n    return func(*args, **kwargs)\n\n  File \"/usr/local/lib/python3.10/dist-packages/tensorflow/python/data/ops/from_generator_op.py\", line 235, in generator_py_func\n    raise TypeError(\n\nTypeError: `generator` yielded an element of shape (1, 117, 8) where an element of shape (2, None, 8) was expected.\n\n\n\t [[{{node PyFunc}}]] [Op:IteratorGetNext] name: "
          ]
        }
      ],
      "source": [
        "# Define a file path for saving the zipped dataset\n",
        "export_path = 'train_ds.zip'\n",
        "\n",
        "# Create a TFRecordWriter to save the zipped dataset\n",
        "options = tf.io.TFRecordOptions(compression_type='GZIP')\n",
        "with tf.io.TFRecordWriter(export_path, options=options) as writer:\n",
        "    for example_x, example_y in train_ds:\n",
        "        tf_example = tf.train.Example(features=tf.train.Features(\n",
        "            feature={\n",
        "                'x': tf.train.Feature(\n",
        "                    bytes_list=tf.train.BytesList(value=[tf.io.serialize_tensor(example_x).numpy()])\n",
        "                ),\n",
        "                'y': tf.train.Feature(\n",
        "                    bytes_list=tf.train.BytesList(value=[tf.io.serialize_tensor(example_y).numpy()])\n",
        "                )\n",
        "            }\n",
        "        ))\n",
        "        writer.write(tf_example.SerializeToString())"
      ]
    }
  ],
  "metadata": {
    "accelerator": "GPU",
    "colab": {
      "provenance": []
    },
    "kernelspec": {
      "display_name": "Python 3 (ipykernel)",
      "language": "python",
      "name": "python3"
    },
    "language_info": {
      "codemirror_mode": {
        "name": "ipython",
        "version": 3
      },
      "file_extension": ".py",
      "mimetype": "text/x-python",
      "name": "python",
      "nbconvert_exporter": "python",
      "pygments_lexer": "ipython3",
      "version": "3.11.3"
    }
  },
  "nbformat": 4,
  "nbformat_minor": 0
}