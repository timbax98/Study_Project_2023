{
 "cells": [
  {
   "cell_type": "markdown",
   "metadata": {
    "id": "EDqBMS1KBMo2"
   },
   "source": [
    "# **Study Project:** *Transformer model for prediction of grasping movements*"
   ]
  },
  {
   "cell_type": "markdown",
   "metadata": {
    "id": "QC1eRfTGuWyA",
    "jp-MarkdownHeadingCollapsed": true
   },
   "source": [
    "## Import packages"
   ]
  },
  {
   "cell_type": "code",
   "execution_count": 1,
   "metadata": {
    "colab": {
     "base_uri": "https://localhost:8080/"
    },
    "executionInfo": {
     "elapsed": 14742,
     "status": "ok",
     "timestamp": 1689784387857,
     "user": {
      "displayName": "Florian Pätzold",
      "userId": "14560267868897327267"
     },
     "user_tz": -120
    },
    "id": "F7Sn6IstgaA6",
    "outputId": "30cf809f-df17-4146-e0f8-ac624d375c1b"
   },
   "outputs": [
    {
     "name": "stderr",
     "output_type": "stream",
     "text": [
      "2023-09-05 17:15:52.958719: I tensorflow/core/platform/cpu_feature_guard.cc:182] This TensorFlow binary is optimized to use available CPU instructions in performance-critical operations.\n",
      "To enable the following instructions: AVX2 FMA, in other operations, rebuild TensorFlow with the appropriate compiler flags.\n"
     ]
    }
   ],
   "source": [
    "import os\n",
    "import zipfile\n",
    "import numpy as np\n",
    "import tensorflow as tf\n",
    "import datetime\n",
    "from tensorflow import keras\n",
    "from tensorflow.keras.layers import Dense, MultiHeadAttention, LayerNormalization, Dropout\n",
    "from tensorflow.keras.utils import Progbar\n",
    "from tensorflow.keras.callbacks import TensorBoard"
   ]
  },
  {
   "cell_type": "markdown",
   "metadata": {
    "jp-MarkdownHeadingCollapsed": true
   },
   "source": [
    "## Helper functions"
   ]
  },
  {
   "cell_type": "code",
   "execution_count": 2,
   "metadata": {},
   "outputs": [],
   "source": [
    "# Model checkpointing\n",
    "def save_weights(current_loss,epoch,transformer):\n",
    "\n",
    "  # If currernt test_accuracy is the highest\n",
    "  if all(current_loss <= old_losses for old_losses in test_losses) or epoch == 0:\n",
    "\n",
    "    # Save current model weight\n",
    "    transformer.save_weights(save_path)\n",
    "    return \"\\nWeights saved!\"\n",
    "\n",
    "  else:\n",
    "    return \"\""
   ]
  },
  {
   "cell_type": "code",
   "execution_count": 3,
   "metadata": {},
   "outputs": [],
   "source": [
    "def early_stopping(current_loss):\n",
    "\n",
    "  global p_counter\n",
    "\n",
    "  # If current loss did decrease over the last patience epochs\n",
    "  if all(current_loss <= old_losses for old_losses in test_losses):\n",
    "    p_counter = 0\n",
    "    return False\n",
    "\n",
    "  # Stop training and load old weights\n",
    "  else:\n",
    "    print(f\"Patience: {p_counter+1}\\n\")\n",
    "    p_counter += 1\n",
    "\n",
    "    if p_counter == patience:\n",
    "      transformer.load_weights(save_path)\n",
    "      return True\n",
    "\n",
    "    else:\n",
    "      return False"
   ]
  },
  {
   "cell_type": "markdown",
   "metadata": {
    "id": "tHmhuucQ4QVr"
   },
   "source": [
    "## Model Architecture"
   ]
  },
  {
   "cell_type": "markdown",
   "metadata": {
    "id": "S5D7ySBZZOtr",
    "jp-MarkdownHeadingCollapsed": true
   },
   "source": [
    "### Positional Encoding"
   ]
  },
  {
   "cell_type": "code",
   "execution_count": 4,
   "metadata": {
    "id": "EZ1HGdOFn7XS"
   },
   "outputs": [],
   "source": [
    "class PositionalEncoding(tf.keras.layers.Layer):\n",
    "    def __init__(self, position, d_model):\n",
    "        super(PositionalEncoding, self).__init__()\n",
    "        self.positional_encoding = self.get_positional_encoding(position, d_model)\n",
    "\n",
    "    def get_positional_encoding(self, sequence_length, input_dim):\n",
    "        angle_rads = self.get_angles(tf.range(sequence_length, dtype=tf.float32)[:, tf.newaxis],\n",
    "                                     tf.range(input_dim, dtype=tf.float32)[tf.newaxis, :],\n",
    "                                     input_dim)\n",
    "\n",
    "        # Apply sine to even indices in the array\n",
    "        sines = tf.math.sin(angle_rads[:, 0::2])\n",
    "        # Apply cosine to odd indices in the array\n",
    "        cosines = tf.math.cos(angle_rads[:, 1::2])\n",
    "\n",
    "        # Concatenate sines and cosines\n",
    "        pos_encoding = tf.concat([sines, cosines], axis=-1)\n",
    "        pos_encoding = pos_encoding[tf.newaxis, ...]\n",
    "        return tf.cast(pos_encoding, dtype=tf.float32)\n",
    "\n",
    "    def get_angles(self, sequence_length, i, input_dim):\n",
    "        angle_rates = 1 / tf.pow(10000, (2 * (i // 2)) / tf.cast(input_dim, tf.float32))\n",
    "        return sequence_length * angle_rates\n",
    "\n",
    "    def call(self, inputs):\n",
    "        return inputs + self.positional_encoding[:, :tf.shape(inputs)[1], :]"
   ]
  },
  {
   "cell_type": "markdown",
   "metadata": {
    "id": "r2zT3EQ_4Skf",
    "jp-MarkdownHeadingCollapsed": true
   },
   "source": [
    "### Encoder"
   ]
  },
  {
   "cell_type": "code",
   "execution_count": 5,
   "metadata": {
    "id": "QUfYRliFoExJ"
   },
   "outputs": [],
   "source": [
    "class TransformerEncoderLayer(tf.keras.layers.Layer):\n",
    "    def __init__(self, d_model, num_heads, dff, rate=0.1):\n",
    "        super(TransformerEncoderLayer, self).__init__()\n",
    "\n",
    "        self.mha = MultiHeadAttention(num_heads=num_heads, key_dim=d_model)\n",
    "        self.ffn = keras.Sequential([\n",
    "            Dense(dff, activation='relu'),\n",
    "            Dense(d_model)\n",
    "        ])\n",
    "\n",
    "        self.layernorm1 = LayerNormalization(epsilon=1e-6)\n",
    "        self.layernorm2 = LayerNormalization(epsilon=1e-6)\n",
    "\n",
    "        self.dropout1 = Dropout(rate)\n",
    "        self.dropout2 = Dropout(rate)\n",
    "\n",
    "    def call(self, inputs, training):\n",
    "        attn_output = self.mha(inputs, inputs)\n",
    "        attn_output = self.dropout1(attn_output, training=training)\n",
    "        out1 = self.layernorm1(inputs + attn_output)\n",
    "\n",
    "        ffn_output = self.ffn(out1)\n",
    "        ffn_output = self.dropout2(ffn_output, training=training)\n",
    "        out2 = self.layernorm2(out1 + ffn_output)\n",
    "\n",
    "        return out2\n",
    "\n",
    "class TransformerEncoder(tf.keras.layers.Layer):\n",
    "    def __init__(self, num_layers, d_model, num_heads, dff, input_dim, rate=0.1):\n",
    "        super(TransformerEncoder, self).__init__()\n",
    "\n",
    "        self.d_model = d_model\n",
    "        self.num_layers = num_layers\n",
    "\n",
    "        self.dense = Dense(d_model)\n",
    "        self.enc_layers = [TransformerEncoderLayer(d_model, num_heads, dff, rate) for _ in range(num_layers)]\n",
    "\n",
    "        self.dropout = Dropout(rate)\n",
    "\n",
    "    def call(self, x, training):\n",
    "        x = self.dense(x)\n",
    "        x = self.dropout(x, training=training)\n",
    "\n",
    "        for i in range(self.num_layers):\n",
    "            x = self.enc_layers[i](x, training)\n",
    "\n",
    "        return x"
   ]
  },
  {
   "cell_type": "markdown",
   "metadata": {
    "id": "pa5oe4l54apO"
   },
   "source": [
    "### Decoder"
   ]
  },
  {
   "cell_type": "code",
   "execution_count": 6,
   "metadata": {
    "id": "fx3_AjP54bfe"
   },
   "outputs": [],
   "source": [
    "class TransformerDecoderLayer(tf.keras.layers.Layer):\n",
    "    def __init__(self, d_model, num_heads, dff,sequence_length, rate=0.1):\n",
    "        super(TransformerDecoderLayer, self).__init__()\n",
    "\n",
    "        self.masked_mha1 = MultiHeadAttention(num_heads=num_heads, key_dim=d_model)\n",
    "        self.mha2 = MultiHeadAttention(num_heads=num_heads, key_dim=d_model)\n",
    "\n",
    "        self.ffn = keras.Sequential([\n",
    "            Dense(dff, activation='relu'),\n",
    "            Dense(d_model)\n",
    "        ])\n",
    "\n",
    "        self.look_ahead_mask = tf.linalg.band_part(tf.ones((sequence_length, sequence_length)), -1, 0)\n",
    "\n",
    "        self.layernorm1 = LayerNormalization(epsilon=1e-6)\n",
    "        self.layernorm2 = LayerNormalization(epsilon=1e-6)\n",
    "        self.layernorm3 = LayerNormalization(epsilon=1e-6)\n",
    "\n",
    "        self.dropout1 = Dropout(rate)\n",
    "        self.dropout2 = Dropout(rate)\n",
    "        self.dropout3 = Dropout(rate)\n",
    "\n",
    "    def call(self, inputs, enc_output, training):\n",
    "        attn1 = self.masked_mha1(inputs, inputs, attention_mask=self.look_ahead_mask)\n",
    "        attn1 = self.dropout1(attn1, training=training)\n",
    "        out1 = self.layernorm1(inputs + attn1)\n",
    "\n",
    "        attn2 = self.mha2(out1, enc_output)\n",
    "        attn2 = self.dropout2(attn2, training=training)\n",
    "        out2 = self.layernorm2(out1 + attn2)\n",
    "\n",
    "        ffn_output = self.ffn(out2)\n",
    "        ffn_output = self.dropout3(ffn_output, training=training)\n",
    "        out3 = self.layernorm3(out2 + ffn_output)\n",
    "\n",
    "        return out3\n",
    "\n",
    "class TransformerDecoder(tf.keras.layers.Layer):\n",
    "    def __init__(self, num_layers, d_model, num_heads, dff, output_dim, sequence_length, rate=0.1):\n",
    "        super(TransformerDecoder, self).__init__()\n",
    "\n",
    "        self.d_model = d_model\n",
    "        self.num_layers = num_layers\n",
    "\n",
    "        self.dec_layers = [TransformerDecoderLayer(d_model, num_heads, dff,sequence_length, rate) for _ in range(num_layers)]\n",
    "\n",
    "        self.final_layer = Dense(output_dim)\n",
    "\n",
    "    def call(self, x, enc_output, training):\n",
    "        for i in range(self.num_layers):\n",
    "            x = self.dec_layers[i](x, enc_output, training)\n",
    "\n",
    "        x = self.final_layer(x)\n",
    "\n",
    "        return x"
   ]
  },
  {
   "cell_type": "markdown",
   "metadata": {
    "id": "1YXPWKtZ477u"
   },
   "source": [
    "### Transformer Model"
   ]
  },
  {
   "cell_type": "code",
   "execution_count": 7,
   "metadata": {
    "id": "zfDS9bBhoeVU"
   },
   "outputs": [],
   "source": [
    "class Transformer(tf.keras.Model):\n",
    "    def __init__(self, num_layers, d_model, num_heads, dff, sequence_length, input_dim, output_dim, rate=0.1):\n",
    "        super(Transformer, self).__init__()\n",
    "\n",
    "        self.positional_encoder = PositionalEncoding(sequence_length, input_dim)\n",
    "        self.encoder = TransformerEncoder(num_layers, d_model, num_heads, dff, input_dim, rate)\n",
    "        self.decoder = TransformerDecoder(num_layers, d_model, num_heads, dff, output_dim, sequence_length, rate)\n",
    "\n",
    "        self.loss_function = tf.keras.losses.MeanSquaredError()\n",
    "        self.optimizer = tf.keras.optimizers.Adam()\n",
    "\n",
    "    def call(self, inp, training):\n",
    "        x = self.positional_encoder(inp)\n",
    "        enc_output = self.encoder(x, training)\n",
    "        dec_output = self.decoder(x, enc_output, training)\n",
    "\n",
    "        return dec_output\n",
    "\n",
    "    #@tf.function\n",
    "    def train_step(self, x, targets):\n",
    "\n",
    "        with tf.GradientTape() as tape:\n",
    "            predictions = self(x, training = True)\n",
    "            loss = self.loss_function(targets, predictions)\n",
    "\n",
    "        gradients = tape.gradient(loss, self.trainable_variables)\n",
    "        self.optimizer.apply_gradients(zip(gradients, self.trainable_variables))\n",
    "\n",
    "        return loss\n",
    "\n",
    "    def predict(self, x, targets):\n",
    "\n",
    "        predictions = self(x,training = False)\n",
    "        loss = self.loss_function(targets, predictions)\n",
    "\n",
    "        return loss, predictions"
   ]
  },
  {
   "cell_type": "markdown",
   "metadata": {
    "id": "Fv-WyfruB4pK"
   },
   "source": [
    "## Training"
   ]
  },
  {
   "cell_type": "markdown",
   "metadata": {
    "id": "4DjdgL9SwP7g",
    "jp-MarkdownHeadingCollapsed": true
   },
   "source": [
    "### Import dataset"
   ]
  },
  {
   "cell_type": "code",
   "execution_count": 8,
   "metadata": {},
   "outputs": [],
   "source": [
    "# Define the file path where the zipped dataset was saved\n",
    "import_path = 'train_ds.zip'\n",
    "\n",
    "# Function to deserialize tensors from bytes\n",
    "def deserialize_example(serialized_example):\n",
    "    feature_description = {\n",
    "        'x': tf.io.FixedLenFeature([], tf.string),\n",
    "        'y': tf.io.FixedLenFeature([], tf.string)\n",
    "    }\n",
    "\n",
    "    example = tf.io.parse_single_example(serialized_example, feature_description)\n",
    "    x = tf.io.parse_tensor(example['x'], out_type=tf.float32)\n",
    "    y = tf.io.parse_tensor(example['y'], out_type=tf.float32)\n",
    "\n",
    "    return x, y\n",
    "\n",
    "# Create a TFRecordDataset from the saved file\n",
    "dataset = tf.data.TFRecordDataset(import_path, compression_type='GZIP')\n",
    "\n",
    "# Deserialize the zipped dataset\n",
    "train_ds = dataset.map(deserialize_example)\n",
    "test_ds = train_ds # mock example for training"
   ]
  },
  {
   "cell_type": "code",
   "execution_count": 9,
   "metadata": {
    "scrolled": true
   },
   "outputs": [
    {
     "data": {
      "text/plain": [
       "'\\n# Print at most the first 5 examples from the train dataset\\nfor i, (train_data, label_data) in enumerate(train_ds):\\n    if i < 5:\\n        print(f\"Training pair: {i}\")\\n        print(\"Train Data:\")\\n        print(train_data.shape)\\n        print(train_data.numpy())\\n        print()\\n        print(\"Label Data:\")\\n        print(label_data.shape)\\n        print(label_data.numpy())\\n        print()\\n'"
      ]
     },
     "execution_count": 9,
     "metadata": {},
     "output_type": "execute_result"
    }
   ],
   "source": [
    "# Debugging\n",
    "\"\"\"\n",
    "# Print at most the first 5 examples from the train dataset\n",
    "for i, (train_data, label_data) in enumerate(train_ds):\n",
    "    if i < 5:\n",
    "        print(f\"Training pair: {i}\")\n",
    "        print(\"Train Data:\")\n",
    "        print(train_data.shape)\n",
    "        print(train_data.numpy())\n",
    "        print()\n",
    "        print(\"Label Data:\")\n",
    "        print(label_data.shape)\n",
    "        print(label_data.numpy())\n",
    "        print()\n",
    "\"\"\""
   ]
  },
  {
   "cell_type": "markdown",
   "metadata": {},
   "source": [
    "### Build model"
   ]
  },
  {
   "cell_type": "code",
   "execution_count": 10,
   "metadata": {
    "id": "uZllNgaewPal"
   },
   "outputs": [
    {
     "name": "stdout",
     "output_type": "stream",
     "text": [
      "Batch size: 3, Maximum sequence length: 126\n",
      "\n"
     ]
    },
    {
     "name": "stderr",
     "output_type": "stream",
     "text": [
      "2023-09-05 17:15:55.636633: I tensorflow/core/common_runtime/executor.cc:1197] [/device:CPU:0] (DEBUG INFO) Executor start aborting (this does not indicate an error and you can ignore this message): INVALID_ARGUMENT: You must feed a value for placeholder tensor 'Placeholder/_0' with dtype string and shape [1]\n",
      "\t [[{{node Placeholder/_0}}]]\n"
     ]
    }
   ],
   "source": [
    "# Define hyperparameters for transformer model.\n",
    "# data\n",
    "batch_size = max(seq.shape[0] for seq, t in train_ds)\n",
    "max_sequence_length = max(seq.shape[1] for seq, t in train_ds)\n",
    "print(f\"Batch size: {batch_size}, Maximum sequence length: {max_sequence_length}\\n\")\n",
    "\n",
    "# model\n",
    "num_layers = 4 # How often to stack encoder & decoder blocks\n",
    "num_heads = 8 # Number of parallel self attention heads in the MHA layer\n",
    "dff = 512 # Dimensionality of the feed-forward sublayer\n",
    "input_dim = 8  # Four coordinates each for hand and object\n",
    "output_dim = 1  # Output radian angle via sin and cos\n",
    "d_model = input_dim # Dimensionality of the model's hidden states and the size of the model's embedding vectors"
   ]
  },
  {
   "cell_type": "code",
   "execution_count": 11,
   "metadata": {
    "colab": {
     "base_uri": "https://localhost:8080/"
    },
    "executionInfo": {
     "elapsed": 1716,
     "status": "ok",
     "timestamp": 1688040834293,
     "user": {
      "displayName": "marc 275",
      "userId": "12639751494071984555"
     },
     "user_tz": -120
    },
    "id": "iQe0Z8UwwX_D",
    "outputId": "317cb7f1-f1c6-40d7-c868-80756eaa8776"
   },
   "outputs": [
    {
     "name": "stdout",
     "output_type": "stream",
     "text": [
      "Model: \"transformer\"\n",
      "_________________________________________________________________\n",
      " Layer (type)                Output Shape              Param #   \n",
      "=================================================================\n",
      " positional_encoding (Positi  multiple                 0         \n",
      " onalEncoding)                                                   \n",
      "                                                                 \n",
      " transformer_encoder (Transf  multiple                 44040     \n",
      " ormerEncoder)                                                   \n",
      "                                                                 \n",
      " transformer_decoder (Transf  multiple                 53033     \n",
      " ormerDecoder)                                                   \n",
      "                                                                 \n",
      "=================================================================\n",
      "Total params: 97,073\n",
      "Trainable params: 97,073\n",
      "Non-trainable params: 0\n",
      "_________________________________________________________________\n"
     ]
    }
   ],
   "source": [
    "# Instantiate the Transformer model and print summary.\n",
    "transformer = Transformer(num_layers, d_model, num_heads, dff, max_sequence_length, input_dim, output_dim)\n",
    "transformer.build([batch_size, max_sequence_length, input_dim])\n",
    "transformer.compile(optimizer='adam', loss='mse', metrics=['accuracy'])\n",
    "transformer.summary()"
   ]
  },
  {
   "cell_type": "markdown",
   "metadata": {
    "id": "veRXne1V4-wb"
   },
   "source": [
    "### Train model"
   ]
  },
  {
   "cell_type": "code",
   "execution_count": 12,
   "metadata": {},
   "outputs": [],
   "source": [
    "%load_ext tensorboard"
   ]
  },
  {
   "cell_type": "code",
   "execution_count": 13,
   "metadata": {
    "id": "3nNxK-gHsmkj"
   },
   "outputs": [],
   "source": [
    "# Model/Training Hyperparamters\n",
    "epochs = 100\n",
    "lr = 0.001 ## not used yet\n",
    "patience = 10"
   ]
  },
  {
   "cell_type": "code",
   "execution_count": 14,
   "metadata": {
    "id": "CUVCXgJ8sL3S"
   },
   "outputs": [],
   "source": [
    "# Logging\n",
    "config_name= \"epochs100lr0001p10\"\n",
    "current_time = datetime.datetime.now().strftime(\"%Y%m%d-%H%M%S\")\n",
    "\n",
    "train_log_path = f\"logs/{config_name}/{current_time}/train\"\n",
    "test_log_path = f\"logs/{config_name}/{current_time}/test\"\n",
    "\n",
    "# Log writers\n",
    "train_summary_writer = tf.summary.create_file_writer(train_log_path)\n",
    "test_summary_writer = tf.summary.create_file_writer(test_log_path)\n",
    "\n",
    "# Metrics\n",
    "loss_metric_train = tf.keras.metrics.Mean(name=\"loss_train\")\n",
    "loss_metric_test = tf.keras.metrics.Mean(name=\"loss_test\")"
   ]
  },
  {
   "cell_type": "code",
   "execution_count": 15,
   "metadata": {
    "colab": {
     "base_uri": "https://localhost:8080/",
     "height": 578
    },
    "executionInfo": {
     "elapsed": 99762,
     "status": "error",
     "timestamp": 1688041181462,
     "user": {
      "displayName": "marc 275",
      "userId": "12639751494071984555"
     },
     "user_tz": -120
    },
    "id": "Eg1bvV6dswcD",
    "outputId": "55ae66bc-c30c-472e-9fb6-56aca9023f9b",
    "scrolled": true
   },
   "outputs": [
    {
     "name": "stdout",
     "output_type": "stream",
     "text": [
      "Train loss at epoch 1: 470529.09375\n",
      "Test loss at epoch 1: 468286.84375\n",
      "Train loss at epoch 2: 468040.375\n",
      "Test loss at epoch 2: 467024.65625\n",
      "Train loss at epoch 3: 466977.25\n",
      "Test loss at epoch 3: 466620.125\n",
      "Train loss at epoch 4: 466655.46875\n",
      "Test loss at epoch 4: 466500.875\n",
      "Train loss at epoch 5: 466551.40625\n",
      "Test loss at epoch 5: 466450.40625\n",
      "Train loss at epoch 6: 466504.6875\n",
      "Test loss at epoch 6: 466408.0625\n",
      "Train loss at epoch 7: 466457.25\n",
      "Test loss at epoch 7: 466364.1875\n",
      "Train loss at epoch 8: 466406.09375\n",
      "Test loss at epoch 8: 466323.125\n",
      "Train loss at epoch 9: 466367.40625\n",
      "Test loss at epoch 9: 466286.40625\n",
      "Train loss at epoch 10: 466329.8125\n",
      "Test loss at epoch 10: 466251.9375\n",
      "Train loss at epoch 11: 466290.625\n",
      "Test loss at epoch 11: 466217.75\n",
      "Train loss at epoch 12: 466258.875\n",
      "Test loss at epoch 12: 466182.5625\n",
      "Train loss at epoch 13: 466222.625\n",
      "Test loss at epoch 13: 466146.46875\n",
      "Train loss at epoch 14: 466185.9375\n",
      "Test loss at epoch 14: 466110.0\n",
      "Train loss at epoch 15: 466143.65625\n",
      "Test loss at epoch 15: 466073.28125\n",
      "Train loss at epoch 16: 466109.9375\n",
      "Test loss at epoch 16: 466036.5\n",
      "Train loss at epoch 17: 466067.1875\n",
      "Test loss at epoch 17: 466000.0625\n",
      "Train loss at epoch 18: 466037.09375\n",
      "Test loss at epoch 18: 465963.8125\n",
      "Train loss at epoch 19: 465996.8125\n",
      "Test loss at epoch 19: 465927.625\n",
      "Train loss at epoch 20: 465961.9375\n",
      "Test loss at epoch 20: 465891.21875\n",
      "Train loss at epoch 21: 465924.25\n",
      "Test loss at epoch 21: 465854.25\n",
      "Train loss at epoch 22: 465886.96875\n",
      "Test loss at epoch 22: 465817.25\n",
      "Train loss at epoch 23: 465845.84375\n",
      "Test loss at epoch 23: 465780.0625\n",
      "Train loss at epoch 24: 465808.90625\n",
      "Test loss at epoch 24: 465743.0\n",
      "Train loss at epoch 25: 465772.3125\n",
      "Test loss at epoch 25: 465706.0\n",
      "Train loss at epoch 26: 465735.4375\n",
      "Test loss at epoch 26: 465668.6875\n",
      "Train loss at epoch 27: 465691.0625\n",
      "Test loss at epoch 27: 465630.84375\n",
      "Train loss at epoch 28: 465655.375\n",
      "Test loss at epoch 28: 465592.8125\n",
      "Train loss at epoch 29: 465620.46875\n",
      "Test loss at epoch 29: 465554.5625\n",
      "Train loss at epoch 30: 465575.25\n",
      "Test loss at epoch 30: 465516.25\n",
      "Train loss at epoch 31: 465539.03125\n",
      "Test loss at epoch 31: 465477.875\n",
      "Train loss at epoch 32: 465499.25\n",
      "Test loss at epoch 32: 465439.0\n",
      "Train loss at epoch 33: 465459.125\n",
      "Test loss at epoch 33: 465400.09375\n",
      "Train loss at epoch 34: 465416.125\n",
      "Test loss at epoch 34: 465361.125\n",
      "Train loss at epoch 35: 465381.3125\n",
      "Test loss at epoch 35: 465321.96875\n",
      "Train loss at epoch 36: 465340.1875\n",
      "Test loss at epoch 36: 465282.4375\n",
      "Train loss at epoch 37: 465297.8125\n",
      "Test loss at epoch 37: 465242.6875\n",
      "Train loss at epoch 38: 465256.59375\n",
      "Test loss at epoch 38: 465202.75\n",
      "Train loss at epoch 39: 465215.25\n",
      "Test loss at epoch 39: 465162.625\n",
      "Train loss at epoch 40: 465177.40625\n",
      "Test loss at epoch 40: 465122.3125\n",
      "Train loss at epoch 41: 465132.46875\n",
      "Test loss at epoch 41: 465081.75\n",
      "Train loss at epoch 42: 465091.21875\n",
      "Test loss at epoch 42: 465041.03125\n",
      "Train loss at epoch 43: 465050.53125\n",
      "Test loss at epoch 43: 465000.1875\n",
      "Train loss at epoch 44: 465008.21875\n",
      "Test loss at epoch 44: 464958.875\n",
      "Train loss at epoch 45: 464966.375\n",
      "Test loss at epoch 45: 464917.4375\n",
      "Train loss at epoch 46: 464925.0625\n",
      "Test loss at epoch 46: 464875.75\n",
      "Train loss at epoch 47: 464881.28125\n",
      "Test loss at epoch 47: 464833.875\n",
      "Train loss at epoch 48: 464839.03125\n",
      "Test loss at epoch 48: 464791.75\n",
      "Train loss at epoch 49: 464797.4375\n",
      "Test loss at epoch 49: 464749.5\n",
      "Train loss at epoch 50: 464753.3125\n",
      "Test loss at epoch 50: 464707.09375\n",
      "Train loss at epoch 51: 464712.0\n",
      "Test loss at epoch 51: 464664.3125\n",
      "Train loss at epoch 52: 464667.34375\n",
      "Test loss at epoch 52: 464621.3125\n",
      "Train loss at epoch 53: 464623.65625\n",
      "Test loss at epoch 53: 464577.9375\n",
      "Train loss at epoch 54: 464578.5\n",
      "Test loss at epoch 54: 464534.53125\n",
      "Train loss at epoch 55: 464537.65625\n",
      "Test loss at epoch 55: 464490.875\n",
      "Train loss at epoch 56: 464491.25\n",
      "Test loss at epoch 56: 464447.0\n",
      "Train loss at epoch 57: 464447.625\n",
      "Test loss at epoch 57: 464402.875\n",
      "Train loss at epoch 58: 464403.875\n",
      "Test loss at epoch 58: 464358.65625\n",
      "Train loss at epoch 59: 464358.46875\n",
      "Test loss at epoch 59: 464313.875\n",
      "Train loss at epoch 60: 464313.625\n",
      "Test loss at epoch 60: 464269.0\n",
      "Train loss at epoch 61: 464269.125\n",
      "Test loss at epoch 61: 464223.90625\n",
      "Train loss at epoch 62: 464222.75\n",
      "Test loss at epoch 62: 464178.71875\n",
      "Train loss at epoch 63: 464177.15625\n",
      "Test loss at epoch 63: 464133.0625\n",
      "Train loss at epoch 64: 464131.25\n",
      "Test loss at epoch 64: 464087.375\n",
      "Train loss at epoch 65: 464084.9375\n",
      "Test loss at epoch 65: 464041.21875\n",
      "Train loss at epoch 66: 464039.8125\n",
      "Test loss at epoch 66: 463994.9375\n",
      "Train loss at epoch 67: 463993.03125\n",
      "Test loss at epoch 67: 463948.4375\n",
      "Train loss at epoch 68: 463945.6875\n",
      "Test loss at epoch 68: 463901.6875\n",
      "Train loss at epoch 69: 463898.46875\n",
      "Test loss at epoch 69: 463854.65625\n",
      "Train loss at epoch 70: 463851.15625\n",
      "Test loss at epoch 70: 463807.375\n",
      "Train loss at epoch 71: 463803.875\n",
      "Test loss at epoch 71: 463759.78125\n",
      "Train loss at epoch 72: 463756.3125\n",
      "Test loss at epoch 72: 463712.15625\n",
      "Train loss at epoch 73: 463708.375\n",
      "Test loss at epoch 73: 463664.0625\n",
      "Train loss at epoch 74: 463659.875\n",
      "Test loss at epoch 74: 463615.8125\n",
      "Train loss at epoch 75: 463612.3125\n",
      "Test loss at epoch 75: 463567.25\n",
      "Train loss at epoch 76: 463563.0625\n",
      "Test loss at epoch 76: 463518.4375\n",
      "Train loss at epoch 77: 463514.1875\n",
      "Test loss at epoch 77: 463469.5\n",
      "Train loss at epoch 78: 463464.8125\n",
      "Test loss at epoch 78: 463420.1875\n",
      "Train loss at epoch 79: 463416.0625\n",
      "Test loss at epoch 79: 463370.65625\n",
      "Train loss at epoch 80: 463366.09375\n",
      "Test loss at epoch 80: 463320.875\n",
      "Train loss at epoch 81: 463316.625\n",
      "Test loss at epoch 81: 463270.8125\n",
      "Train loss at epoch 82: 463265.125\n",
      "Test loss at epoch 82: 463220.5625\n",
      "Train loss at epoch 83: 463215.375\n",
      "Test loss at epoch 83: 463170.0\n",
      "Train loss at epoch 84: 463164.34375\n",
      "Test loss at epoch 84: 463119.25\n",
      "Train loss at epoch 85: 463113.6875\n",
      "Test loss at epoch 85: 463067.96875\n",
      "Train loss at epoch 86: 463062.0\n",
      "Test loss at epoch 86: 463016.6875\n",
      "Train loss at epoch 87: 463010.59375\n",
      "Test loss at epoch 87: 462965.1875\n",
      "Train loss at epoch 88: 462959.1875\n",
      "Test loss at epoch 88: 462913.09375\n",
      "Train loss at epoch 89: 462906.1875\n",
      "Test loss at epoch 89: 462861.125\n",
      "Train loss at epoch 90: 462854.0\n",
      "Test loss at epoch 90: 462808.5\n",
      "Train loss at epoch 91: 462801.96875\n",
      "Test loss at epoch 91: 462755.84375\n",
      "Train loss at epoch 92: 462749.1875\n",
      "Test loss at epoch 92: 462702.9375\n",
      "Train loss at epoch 93: 462696.0\n",
      "Test loss at epoch 93: 462649.625\n",
      "Train loss at epoch 94: 462644.40625\n",
      "Test loss at epoch 94: 462596.1875\n",
      "Train loss at epoch 95: 462589.8125\n",
      "Test loss at epoch 95: 462542.5\n",
      "Train loss at epoch 96: 462535.625\n",
      "Test loss at epoch 96: 462488.375\n",
      "Train loss at epoch 97: 462480.375\n",
      "Test loss at epoch 97: 462434.0625\n",
      "Train loss at epoch 98: 462426.625\n",
      "Test loss at epoch 98: 462379.40625\n",
      "Train loss at epoch 99: 462372.125\n",
      "Test loss at epoch 99: 462324.75\n",
      "Train loss at epoch 100: 462317.1875\n",
      "Test loss at epoch 100: 462269.46875\n"
     ]
    },
    {
     "name": "stderr",
     "output_type": "stream",
     "text": [
      "2023-09-05 17:19:38.273908: I tensorflow/core/common_runtime/executor.cc:1197] [/device:CPU:0] (DEBUG INFO) Executor start aborting (this does not indicate an error and you can ignore this message): INVALID_ARGUMENT: You must feed a value for placeholder tensor 'dense_1_input' with dtype float and shape [?,126,8]\n",
      "\t [[{{node dense_1_input}}]]\n",
      "2023-09-05 17:19:38.310536: I tensorflow/core/common_runtime/executor.cc:1197] [/device:CPU:0] (DEBUG INFO) Executor start aborting (this does not indicate an error and you can ignore this message): INVALID_ARGUMENT: You must feed a value for placeholder tensor 'dense_1_input' with dtype float and shape [?,126,8]\n",
      "\t [[{{node dense_1_input}}]]\n",
      "2023-09-05 17:19:38.324675: I tensorflow/core/common_runtime/executor.cc:1197] [/device:CPU:0] (DEBUG INFO) Executor start aborting (this does not indicate an error and you can ignore this message): INVALID_ARGUMENT: You must feed a value for placeholder tensor 'inputs' with dtype float and shape [?,126,8]\n",
      "\t [[{{node inputs}}]]\n",
      "2023-09-05 17:19:38.336392: I tensorflow/core/common_runtime/executor.cc:1197] [/device:CPU:0] (DEBUG INFO) Executor start aborting (this does not indicate an error and you can ignore this message): INVALID_ARGUMENT: You must feed a value for placeholder tensor 'dense_1_input' with dtype float and shape [?,126,8]\n",
      "\t [[{{node dense_1_input}}]]\n",
      "2023-09-05 17:19:38.350223: I tensorflow/core/common_runtime/executor.cc:1197] [/device:CPU:0] (DEBUG INFO) Executor start aborting (this does not indicate an error and you can ignore this message): INVALID_ARGUMENT: You must feed a value for placeholder tensor 'inputs' with dtype float and shape [?,126,8]\n",
      "\t [[{{node inputs}}]]\n",
      "2023-09-05 17:19:38.361812: I tensorflow/core/common_runtime/executor.cc:1197] [/device:CPU:0] (DEBUG INFO) Executor start aborting (this does not indicate an error and you can ignore this message): INVALID_ARGUMENT: You must feed a value for placeholder tensor 'dense_1_input' with dtype float and shape [?,126,8]\n",
      "\t [[{{node dense_1_input}}]]\n",
      "2023-09-05 17:19:38.369610: I tensorflow/core/common_runtime/executor.cc:1197] [/device:CPU:0] (DEBUG INFO) Executor start aborting (this does not indicate an error and you can ignore this message): INVALID_ARGUMENT: You must feed a value for placeholder tensor 'inputs' with dtype float and shape [?,126,8]\n",
      "\t [[{{node inputs}}]]\n",
      "2023-09-05 17:19:38.509928: I tensorflow/core/common_runtime/executor.cc:1197] [/device:CPU:0] (DEBUG INFO) Executor start aborting (this does not indicate an error and you can ignore this message): INVALID_ARGUMENT: You must feed a value for placeholder tensor 'inputs' with dtype float and shape [?,126,512]\n",
      "\t [[{{node inputs}}]]\n",
      "2023-09-05 17:19:38.520352: I tensorflow/core/common_runtime/executor.cc:1197] [/device:CPU:0] (DEBUG INFO) Executor start aborting (this does not indicate an error and you can ignore this message): INVALID_ARGUMENT: You must feed a value for placeholder tensor 'inputs' with dtype float and shape [?,126,8]\n",
      "\t [[{{node inputs}}]]\n",
      "2023-09-05 17:19:38.533727: I tensorflow/core/common_runtime/executor.cc:1197] [/device:CPU:0] (DEBUG INFO) Executor start aborting (this does not indicate an error and you can ignore this message): INVALID_ARGUMENT: You must feed a value for placeholder tensor 'inputs' with dtype float and shape [?,126,8]\n",
      "\t [[{{node inputs}}]]\n",
      "2023-09-05 17:19:38.586545: I tensorflow/core/common_runtime/executor.cc:1197] [/device:CPU:0] (DEBUG INFO) Executor start aborting (this does not indicate an error and you can ignore this message): INVALID_ARGUMENT: You must feed a value for placeholder tensor 'dense_3_input' with dtype float and shape [?,126,8]\n",
      "\t [[{{node dense_3_input}}]]\n",
      "2023-09-05 17:19:38.622330: I tensorflow/core/common_runtime/executor.cc:1197] [/device:CPU:0] (DEBUG INFO) Executor start aborting (this does not indicate an error and you can ignore this message): INVALID_ARGUMENT: You must feed a value for placeholder tensor 'dense_3_input' with dtype float and shape [?,126,8]\n",
      "\t [[{{node dense_3_input}}]]\n",
      "2023-09-05 17:19:38.636629: I tensorflow/core/common_runtime/executor.cc:1197] [/device:CPU:0] (DEBUG INFO) Executor start aborting (this does not indicate an error and you can ignore this message): INVALID_ARGUMENT: You must feed a value for placeholder tensor 'inputs' with dtype float and shape [?,126,8]\n",
      "\t [[{{node inputs}}]]\n",
      "2023-09-05 17:19:38.648370: I tensorflow/core/common_runtime/executor.cc:1197] [/device:CPU:0] (DEBUG INFO) Executor start aborting (this does not indicate an error and you can ignore this message): INVALID_ARGUMENT: You must feed a value for placeholder tensor 'dense_3_input' with dtype float and shape [?,126,8]\n",
      "\t [[{{node dense_3_input}}]]\n",
      "2023-09-05 17:19:38.658599: I tensorflow/core/common_runtime/executor.cc:1197] [/device:CPU:0] (DEBUG INFO) Executor start aborting (this does not indicate an error and you can ignore this message): INVALID_ARGUMENT: You must feed a value for placeholder tensor 'inputs' with dtype float and shape [?,126,8]\n",
      "\t [[{{node inputs}}]]\n",
      "2023-09-05 17:19:38.672690: I tensorflow/core/common_runtime/executor.cc:1197] [/device:CPU:0] (DEBUG INFO) Executor start aborting (this does not indicate an error and you can ignore this message): INVALID_ARGUMENT: You must feed a value for placeholder tensor 'dense_3_input' with dtype float and shape [?,126,8]\n",
      "\t [[{{node dense_3_input}}]]\n",
      "2023-09-05 17:19:38.680591: I tensorflow/core/common_runtime/executor.cc:1197] [/device:CPU:0] (DEBUG INFO) Executor start aborting (this does not indicate an error and you can ignore this message): INVALID_ARGUMENT: You must feed a value for placeholder tensor 'inputs' with dtype float and shape [?,126,8]\n",
      "\t [[{{node inputs}}]]\n",
      "2023-09-05 17:19:38.688532: I tensorflow/core/common_runtime/executor.cc:1197] [/device:CPU:0] (DEBUG INFO) Executor start aborting (this does not indicate an error and you can ignore this message): INVALID_ARGUMENT: You must feed a value for placeholder tensor 'inputs' with dtype float and shape [?,126,512]\n",
      "\t [[{{node inputs}}]]\n",
      "2023-09-05 17:19:38.703908: I tensorflow/core/common_runtime/executor.cc:1197] [/device:CPU:0] (DEBUG INFO) Executor start aborting (this does not indicate an error and you can ignore this message): INVALID_ARGUMENT: You must feed a value for placeholder tensor 'inputs' with dtype float and shape [?,126,8]\n",
      "\t [[{{node inputs}}]]\n",
      "2023-09-05 17:19:38.715744: I tensorflow/core/common_runtime/executor.cc:1197] [/device:CPU:0] (DEBUG INFO) Executor start aborting (this does not indicate an error and you can ignore this message): INVALID_ARGUMENT: You must feed a value for placeholder tensor 'inputs' with dtype float and shape [?,126,8]\n",
      "\t [[{{node inputs}}]]\n",
      "2023-09-05 17:19:38.768332: I tensorflow/core/common_runtime/executor.cc:1197] [/device:CPU:0] (DEBUG INFO) Executor start aborting (this does not indicate an error and you can ignore this message): INVALID_ARGUMENT: You must feed a value for placeholder tensor 'dense_5_input' with dtype float and shape [?,126,8]\n",
      "\t [[{{node dense_5_input}}]]\n",
      "2023-09-05 17:19:38.803261: I tensorflow/core/common_runtime/executor.cc:1197] [/device:CPU:0] (DEBUG INFO) Executor start aborting (this does not indicate an error and you can ignore this message): INVALID_ARGUMENT: You must feed a value for placeholder tensor 'dense_5_input' with dtype float and shape [?,126,8]\n",
      "\t [[{{node dense_5_input}}]]\n",
      "2023-09-05 17:19:38.817392: I tensorflow/core/common_runtime/executor.cc:1197] [/device:CPU:0] (DEBUG INFO) Executor start aborting (this does not indicate an error and you can ignore this message): INVALID_ARGUMENT: You must feed a value for placeholder tensor 'inputs' with dtype float and shape [?,126,8]\n",
      "\t [[{{node inputs}}]]\n",
      "2023-09-05 17:19:38.828985: I tensorflow/core/common_runtime/executor.cc:1197] [/device:CPU:0] (DEBUG INFO) Executor start aborting (this does not indicate an error and you can ignore this message): INVALID_ARGUMENT: You must feed a value for placeholder tensor 'dense_5_input' with dtype float and shape [?,126,8]\n",
      "\t [[{{node dense_5_input}}]]\n",
      "2023-09-05 17:19:38.841169: I tensorflow/core/common_runtime/executor.cc:1197] [/device:CPU:0] (DEBUG INFO) Executor start aborting (this does not indicate an error and you can ignore this message): INVALID_ARGUMENT: You must feed a value for placeholder tensor 'inputs' with dtype float and shape [?,126,8]\n",
      "\t [[{{node inputs}}]]\n",
      "2023-09-05 17:19:38.853117: I tensorflow/core/common_runtime/executor.cc:1197] [/device:CPU:0] (DEBUG INFO) Executor start aborting (this does not indicate an error and you can ignore this message): INVALID_ARGUMENT: You must feed a value for placeholder tensor 'dense_5_input' with dtype float and shape [?,126,8]\n",
      "\t [[{{node dense_5_input}}]]\n",
      "2023-09-05 17:19:38.861144: I tensorflow/core/common_runtime/executor.cc:1197] [/device:CPU:0] (DEBUG INFO) Executor start aborting (this does not indicate an error and you can ignore this message): INVALID_ARGUMENT: You must feed a value for placeholder tensor 'inputs' with dtype float and shape [?,126,8]\n",
      "\t [[{{node inputs}}]]\n",
      "2023-09-05 17:19:38.868485: I tensorflow/core/common_runtime/executor.cc:1197] [/device:CPU:0] (DEBUG INFO) Executor start aborting (this does not indicate an error and you can ignore this message): INVALID_ARGUMENT: You must feed a value for placeholder tensor 'inputs' with dtype float and shape [?,126,512]\n",
      "\t [[{{node inputs}}]]\n",
      "2023-09-05 17:19:38.879464: I tensorflow/core/common_runtime/executor.cc:1197] [/device:CPU:0] (DEBUG INFO) Executor start aborting (this does not indicate an error and you can ignore this message): INVALID_ARGUMENT: You must feed a value for placeholder tensor 'inputs' with dtype float and shape [?,126,8]\n",
      "\t [[{{node inputs}}]]\n",
      "2023-09-05 17:19:38.889093: I tensorflow/core/common_runtime/executor.cc:1197] [/device:CPU:0] (DEBUG INFO) Executor start aborting (this does not indicate an error and you can ignore this message): INVALID_ARGUMENT: You must feed a value for placeholder tensor 'inputs' with dtype float and shape [?,126,8]\n",
      "\t [[{{node inputs}}]]\n",
      "2023-09-05 17:19:38.947068: I tensorflow/core/common_runtime/executor.cc:1197] [/device:CPU:0] (DEBUG INFO) Executor start aborting (this does not indicate an error and you can ignore this message): INVALID_ARGUMENT: You must feed a value for placeholder tensor 'dense_7_input' with dtype float and shape [?,126,8]\n",
      "\t [[{{node dense_7_input}}]]\n",
      "2023-09-05 17:19:38.982622: I tensorflow/core/common_runtime/executor.cc:1197] [/device:CPU:0] (DEBUG INFO) Executor start aborting (this does not indicate an error and you can ignore this message): INVALID_ARGUMENT: You must feed a value for placeholder tensor 'dense_7_input' with dtype float and shape [?,126,8]\n",
      "\t [[{{node dense_7_input}}]]\n",
      "2023-09-05 17:19:38.998132: I tensorflow/core/common_runtime/executor.cc:1197] [/device:CPU:0] (DEBUG INFO) Executor start aborting (this does not indicate an error and you can ignore this message): INVALID_ARGUMENT: You must feed a value for placeholder tensor 'inputs' with dtype float and shape [?,126,8]\n",
      "\t [[{{node inputs}}]]\n",
      "2023-09-05 17:19:39.010038: I tensorflow/core/common_runtime/executor.cc:1197] [/device:CPU:0] (DEBUG INFO) Executor start aborting (this does not indicate an error and you can ignore this message): INVALID_ARGUMENT: You must feed a value for placeholder tensor 'dense_7_input' with dtype float and shape [?,126,8]\n",
      "\t [[{{node dense_7_input}}]]\n",
      "2023-09-05 17:19:39.021753: I tensorflow/core/common_runtime/executor.cc:1197] [/device:CPU:0] (DEBUG INFO) Executor start aborting (this does not indicate an error and you can ignore this message): INVALID_ARGUMENT: You must feed a value for placeholder tensor 'inputs' with dtype float and shape [?,126,8]\n",
      "\t [[{{node inputs}}]]\n",
      "2023-09-05 17:19:39.033463: I tensorflow/core/common_runtime/executor.cc:1197] [/device:CPU:0] (DEBUG INFO) Executor start aborting (this does not indicate an error and you can ignore this message): INVALID_ARGUMENT: You must feed a value for placeholder tensor 'dense_7_input' with dtype float and shape [?,126,8]\n",
      "\t [[{{node dense_7_input}}]]\n",
      "2023-09-05 17:19:39.041037: I tensorflow/core/common_runtime/executor.cc:1197] [/device:CPU:0] (DEBUG INFO) Executor start aborting (this does not indicate an error and you can ignore this message): INVALID_ARGUMENT: You must feed a value for placeholder tensor 'inputs' with dtype float and shape [?,126,8]\n",
      "\t [[{{node inputs}}]]\n",
      "2023-09-05 17:19:39.048647: I tensorflow/core/common_runtime/executor.cc:1197] [/device:CPU:0] (DEBUG INFO) Executor start aborting (this does not indicate an error and you can ignore this message): INVALID_ARGUMENT: You must feed a value for placeholder tensor 'inputs' with dtype float and shape [?,126,512]\n",
      "\t [[{{node inputs}}]]\n",
      "2023-09-05 17:19:39.059539: I tensorflow/core/common_runtime/executor.cc:1197] [/device:CPU:0] (DEBUG INFO) Executor start aborting (this does not indicate an error and you can ignore this message): INVALID_ARGUMENT: You must feed a value for placeholder tensor 'inputs' with dtype float and shape [?,126,8]\n",
      "\t [[{{node inputs}}]]\n",
      "2023-09-05 17:19:39.069388: I tensorflow/core/common_runtime/executor.cc:1197] [/device:CPU:0] (DEBUG INFO) Executor start aborting (this does not indicate an error and you can ignore this message): INVALID_ARGUMENT: You must feed a value for placeholder tensor 'inputs' with dtype float and shape [?,126,8]\n",
      "\t [[{{node inputs}}]]\n",
      "2023-09-05 17:19:39.143152: I tensorflow/core/common_runtime/executor.cc:1197] [/device:CPU:0] (DEBUG INFO) Executor start aborting (this does not indicate an error and you can ignore this message): INVALID_ARGUMENT: You must feed a value for placeholder tensor 'dense_9_input' with dtype float and shape [?,126,8]\n",
      "\t [[{{node dense_9_input}}]]\n",
      "2023-09-05 17:19:39.181053: I tensorflow/core/common_runtime/executor.cc:1197] [/device:CPU:0] (DEBUG INFO) Executor start aborting (this does not indicate an error and you can ignore this message): INVALID_ARGUMENT: You must feed a value for placeholder tensor 'dense_9_input' with dtype float and shape [?,126,8]\n",
      "\t [[{{node dense_9_input}}]]\n",
      "2023-09-05 17:19:39.195680: I tensorflow/core/common_runtime/executor.cc:1197] [/device:CPU:0] (DEBUG INFO) Executor start aborting (this does not indicate an error and you can ignore this message): INVALID_ARGUMENT: You must feed a value for placeholder tensor 'inputs' with dtype float and shape [?,126,8]\n",
      "\t [[{{node inputs}}]]\n",
      "2023-09-05 17:19:39.207290: I tensorflow/core/common_runtime/executor.cc:1197] [/device:CPU:0] (DEBUG INFO) Executor start aborting (this does not indicate an error and you can ignore this message): INVALID_ARGUMENT: You must feed a value for placeholder tensor 'dense_9_input' with dtype float and shape [?,126,8]\n",
      "\t [[{{node dense_9_input}}]]\n",
      "2023-09-05 17:19:39.217756: I tensorflow/core/common_runtime/executor.cc:1197] [/device:CPU:0] (DEBUG INFO) Executor start aborting (this does not indicate an error and you can ignore this message): INVALID_ARGUMENT: You must feed a value for placeholder tensor 'inputs' with dtype float and shape [?,126,8]\n",
      "\t [[{{node inputs}}]]\n",
      "2023-09-05 17:19:39.229445: I tensorflow/core/common_runtime/executor.cc:1197] [/device:CPU:0] (DEBUG INFO) Executor start aborting (this does not indicate an error and you can ignore this message): INVALID_ARGUMENT: You must feed a value for placeholder tensor 'dense_9_input' with dtype float and shape [?,126,8]\n",
      "\t [[{{node dense_9_input}}]]\n",
      "2023-09-05 17:19:39.238062: I tensorflow/core/common_runtime/executor.cc:1197] [/device:CPU:0] (DEBUG INFO) Executor start aborting (this does not indicate an error and you can ignore this message): INVALID_ARGUMENT: You must feed a value for placeholder tensor 'inputs' with dtype float and shape [?,126,8]\n",
      "\t [[{{node inputs}}]]\n",
      "2023-09-05 17:19:39.245549: I tensorflow/core/common_runtime/executor.cc:1197] [/device:CPU:0] (DEBUG INFO) Executor start aborting (this does not indicate an error and you can ignore this message): INVALID_ARGUMENT: You must feed a value for placeholder tensor 'inputs' with dtype float and shape [?,126,512]\n",
      "\t [[{{node inputs}}]]\n",
      "2023-09-05 17:19:39.256291: I tensorflow/core/common_runtime/executor.cc:1197] [/device:CPU:0] (DEBUG INFO) Executor start aborting (this does not indicate an error and you can ignore this message): INVALID_ARGUMENT: You must feed a value for placeholder tensor 'inputs' with dtype float and shape [?,126,8]\n",
      "\t [[{{node inputs}}]]\n",
      "2023-09-05 17:19:39.266389: I tensorflow/core/common_runtime/executor.cc:1197] [/device:CPU:0] (DEBUG INFO) Executor start aborting (this does not indicate an error and you can ignore this message): INVALID_ARGUMENT: You must feed a value for placeholder tensor 'inputs' with dtype float and shape [?,126,8]\n",
      "\t [[{{node inputs}}]]\n",
      "2023-09-05 17:19:39.335563: I tensorflow/core/common_runtime/executor.cc:1197] [/device:CPU:0] (DEBUG INFO) Executor start aborting (this does not indicate an error and you can ignore this message): INVALID_ARGUMENT: You must feed a value for placeholder tensor 'dense_11_input' with dtype float and shape [?,126,8]\n",
      "\t [[{{node dense_11_input}}]]\n",
      "2023-09-05 17:19:39.368624: I tensorflow/core/common_runtime/executor.cc:1197] [/device:CPU:0] (DEBUG INFO) Executor start aborting (this does not indicate an error and you can ignore this message): INVALID_ARGUMENT: You must feed a value for placeholder tensor 'dense_11_input' with dtype float and shape [?,126,8]\n",
      "\t [[{{node dense_11_input}}]]\n",
      "2023-09-05 17:19:39.382801: I tensorflow/core/common_runtime/executor.cc:1197] [/device:CPU:0] (DEBUG INFO) Executor start aborting (this does not indicate an error and you can ignore this message): INVALID_ARGUMENT: You must feed a value for placeholder tensor 'inputs' with dtype float and shape [?,126,8]\n",
      "\t [[{{node inputs}}]]\n",
      "2023-09-05 17:19:39.398594: I tensorflow/core/common_runtime/executor.cc:1197] [/device:CPU:0] (DEBUG INFO) Executor start aborting (this does not indicate an error and you can ignore this message): INVALID_ARGUMENT: You must feed a value for placeholder tensor 'dense_11_input' with dtype float and shape [?,126,8]\n",
      "\t [[{{node dense_11_input}}]]\n",
      "2023-09-05 17:19:39.408394: I tensorflow/core/common_runtime/executor.cc:1197] [/device:CPU:0] (DEBUG INFO) Executor start aborting (this does not indicate an error and you can ignore this message): INVALID_ARGUMENT: You must feed a value for placeholder tensor 'inputs' with dtype float and shape [?,126,8]\n",
      "\t [[{{node inputs}}]]\n",
      "2023-09-05 17:19:39.419504: I tensorflow/core/common_runtime/executor.cc:1197] [/device:CPU:0] (DEBUG INFO) Executor start aborting (this does not indicate an error and you can ignore this message): INVALID_ARGUMENT: You must feed a value for placeholder tensor 'dense_11_input' with dtype float and shape [?,126,8]\n",
      "\t [[{{node dense_11_input}}]]\n",
      "2023-09-05 17:19:39.427948: I tensorflow/core/common_runtime/executor.cc:1197] [/device:CPU:0] (DEBUG INFO) Executor start aborting (this does not indicate an error and you can ignore this message): INVALID_ARGUMENT: You must feed a value for placeholder tensor 'inputs' with dtype float and shape [?,126,8]\n",
      "\t [[{{node inputs}}]]\n",
      "2023-09-05 17:19:39.435646: I tensorflow/core/common_runtime/executor.cc:1197] [/device:CPU:0] (DEBUG INFO) Executor start aborting (this does not indicate an error and you can ignore this message): INVALID_ARGUMENT: You must feed a value for placeholder tensor 'inputs' with dtype float and shape [?,126,512]\n",
      "\t [[{{node inputs}}]]\n",
      "2023-09-05 17:19:39.447109: I tensorflow/core/common_runtime/executor.cc:1197] [/device:CPU:0] (DEBUG INFO) Executor start aborting (this does not indicate an error and you can ignore this message): INVALID_ARGUMENT: You must feed a value for placeholder tensor 'inputs' with dtype float and shape [?,126,8]\n",
      "\t [[{{node inputs}}]]\n",
      "2023-09-05 17:19:39.456919: I tensorflow/core/common_runtime/executor.cc:1197] [/device:CPU:0] (DEBUG INFO) Executor start aborting (this does not indicate an error and you can ignore this message): INVALID_ARGUMENT: You must feed a value for placeholder tensor 'inputs' with dtype float and shape [?,126,8]\n",
      "\t [[{{node inputs}}]]\n",
      "2023-09-05 17:19:39.524124: I tensorflow/core/common_runtime/executor.cc:1197] [/device:CPU:0] (DEBUG INFO) Executor start aborting (this does not indicate an error and you can ignore this message): INVALID_ARGUMENT: You must feed a value for placeholder tensor 'dense_13_input' with dtype float and shape [?,126,8]\n",
      "\t [[{{node dense_13_input}}]]\n",
      "2023-09-05 17:19:39.559584: I tensorflow/core/common_runtime/executor.cc:1197] [/device:CPU:0] (DEBUG INFO) Executor start aborting (this does not indicate an error and you can ignore this message): INVALID_ARGUMENT: You must feed a value for placeholder tensor 'dense_13_input' with dtype float and shape [?,126,8]\n",
      "\t [[{{node dense_13_input}}]]\n",
      "2023-09-05 17:19:39.575328: I tensorflow/core/common_runtime/executor.cc:1197] [/device:CPU:0] (DEBUG INFO) Executor start aborting (this does not indicate an error and you can ignore this message): INVALID_ARGUMENT: You must feed a value for placeholder tensor 'inputs' with dtype float and shape [?,126,8]\n",
      "\t [[{{node inputs}}]]\n",
      "2023-09-05 17:19:39.586861: I tensorflow/core/common_runtime/executor.cc:1197] [/device:CPU:0] (DEBUG INFO) Executor start aborting (this does not indicate an error and you can ignore this message): INVALID_ARGUMENT: You must feed a value for placeholder tensor 'dense_13_input' with dtype float and shape [?,126,8]\n",
      "\t [[{{node dense_13_input}}]]\n",
      "2023-09-05 17:19:39.601057: I tensorflow/core/common_runtime/executor.cc:1197] [/device:CPU:0] (DEBUG INFO) Executor start aborting (this does not indicate an error and you can ignore this message): INVALID_ARGUMENT: You must feed a value for placeholder tensor 'inputs' with dtype float and shape [?,126,8]\n",
      "\t [[{{node inputs}}]]\n",
      "2023-09-05 17:19:39.615631: I tensorflow/core/common_runtime/executor.cc:1197] [/device:CPU:0] (DEBUG INFO) Executor start aborting (this does not indicate an error and you can ignore this message): INVALID_ARGUMENT: You must feed a value for placeholder tensor 'dense_13_input' with dtype float and shape [?,126,8]\n",
      "\t [[{{node dense_13_input}}]]\n",
      "2023-09-05 17:19:39.622539: I tensorflow/core/common_runtime/executor.cc:1197] [/device:CPU:0] (DEBUG INFO) Executor start aborting (this does not indicate an error and you can ignore this message): INVALID_ARGUMENT: You must feed a value for placeholder tensor 'inputs' with dtype float and shape [?,126,8]\n",
      "\t [[{{node inputs}}]]\n",
      "2023-09-05 17:19:39.630113: I tensorflow/core/common_runtime/executor.cc:1197] [/device:CPU:0] (DEBUG INFO) Executor start aborting (this does not indicate an error and you can ignore this message): INVALID_ARGUMENT: You must feed a value for placeholder tensor 'inputs' with dtype float and shape [?,126,512]\n",
      "\t [[{{node inputs}}]]\n",
      "2023-09-05 17:19:39.640962: I tensorflow/core/common_runtime/executor.cc:1197] [/device:CPU:0] (DEBUG INFO) Executor start aborting (this does not indicate an error and you can ignore this message): INVALID_ARGUMENT: You must feed a value for placeholder tensor 'inputs' with dtype float and shape [?,126,8]\n",
      "\t [[{{node inputs}}]]\n",
      "2023-09-05 17:19:39.656723: I tensorflow/core/common_runtime/executor.cc:1197] [/device:CPU:0] (DEBUG INFO) Executor start aborting (this does not indicate an error and you can ignore this message): INVALID_ARGUMENT: You must feed a value for placeholder tensor 'inputs' with dtype float and shape [?,126,8]\n",
      "\t [[{{node inputs}}]]\n",
      "2023-09-05 17:19:39.725808: I tensorflow/core/common_runtime/executor.cc:1197] [/device:CPU:0] (DEBUG INFO) Executor start aborting (this does not indicate an error and you can ignore this message): INVALID_ARGUMENT: You must feed a value for placeholder tensor 'dense_15_input' with dtype float and shape [?,126,8]\n",
      "\t [[{{node dense_15_input}}]]\n",
      "2023-09-05 17:19:39.760737: I tensorflow/core/common_runtime/executor.cc:1197] [/device:CPU:0] (DEBUG INFO) Executor start aborting (this does not indicate an error and you can ignore this message): INVALID_ARGUMENT: You must feed a value for placeholder tensor 'dense_15_input' with dtype float and shape [?,126,8]\n",
      "\t [[{{node dense_15_input}}]]\n",
      "2023-09-05 17:19:39.775106: I tensorflow/core/common_runtime/executor.cc:1197] [/device:CPU:0] (DEBUG INFO) Executor start aborting (this does not indicate an error and you can ignore this message): INVALID_ARGUMENT: You must feed a value for placeholder tensor 'inputs' with dtype float and shape [?,126,8]\n",
      "\t [[{{node inputs}}]]\n",
      "2023-09-05 17:19:39.786701: I tensorflow/core/common_runtime/executor.cc:1197] [/device:CPU:0] (DEBUG INFO) Executor start aborting (this does not indicate an error and you can ignore this message): INVALID_ARGUMENT: You must feed a value for placeholder tensor 'dense_15_input' with dtype float and shape [?,126,8]\n",
      "\t [[{{node dense_15_input}}]]\n",
      "2023-09-05 17:19:39.798286: I tensorflow/core/common_runtime/executor.cc:1197] [/device:CPU:0] (DEBUG INFO) Executor start aborting (this does not indicate an error and you can ignore this message): INVALID_ARGUMENT: You must feed a value for placeholder tensor 'inputs' with dtype float and shape [?,126,8]\n",
      "\t [[{{node inputs}}]]\n",
      "2023-09-05 17:19:39.811635: I tensorflow/core/common_runtime/executor.cc:1197] [/device:CPU:0] (DEBUG INFO) Executor start aborting (this does not indicate an error and you can ignore this message): INVALID_ARGUMENT: You must feed a value for placeholder tensor 'dense_15_input' with dtype float and shape [?,126,8]\n",
      "\t [[{{node dense_15_input}}]]\n",
      "2023-09-05 17:19:39.819651: I tensorflow/core/common_runtime/executor.cc:1197] [/device:CPU:0] (DEBUG INFO) Executor start aborting (this does not indicate an error and you can ignore this message): INVALID_ARGUMENT: You must feed a value for placeholder tensor 'inputs' with dtype float and shape [?,126,8]\n",
      "\t [[{{node inputs}}]]\n",
      "2023-09-05 17:19:39.826595: I tensorflow/core/common_runtime/executor.cc:1197] [/device:CPU:0] (DEBUG INFO) Executor start aborting (this does not indicate an error and you can ignore this message): INVALID_ARGUMENT: You must feed a value for placeholder tensor 'inputs' with dtype float and shape [?,126,512]\n",
      "\t [[{{node inputs}}]]\n",
      "2023-09-05 17:19:39.837414: I tensorflow/core/common_runtime/executor.cc:1197] [/device:CPU:0] (DEBUG INFO) Executor start aborting (this does not indicate an error and you can ignore this message): INVALID_ARGUMENT: You must feed a value for placeholder tensor 'inputs' with dtype float and shape [?,126,8]\n",
      "\t [[{{node inputs}}]]\n",
      "2023-09-05 17:19:39.847616: I tensorflow/core/common_runtime/executor.cc:1197] [/device:CPU:0] (DEBUG INFO) Executor start aborting (this does not indicate an error and you can ignore this message): INVALID_ARGUMENT: You must feed a value for placeholder tensor 'inputs' with dtype float and shape [?,126,8]\n",
      "\t [[{{node inputs}}]]\n",
      "2023-09-05 17:19:42.327627: I tensorflow/core/common_runtime/executor.cc:1197] [/device:CPU:0] (DEBUG INFO) Executor start aborting (this does not indicate an error and you can ignore this message): INVALID_ARGUMENT: You must feed a value for placeholder tensor 'input_1' with dtype float and shape [?,126,8]\n",
      "\t [[{{node input_1}}]]\n",
      "2023-09-05 17:19:42.725353: I tensorflow/core/common_runtime/executor.cc:1197] [/device:CPU:0] (DEBUG INFO) Executor start aborting (this does not indicate an error and you can ignore this message): INVALID_ARGUMENT: You must feed a value for placeholder tensor 'input_1' with dtype float and shape [?,126,8]\n",
      "\t [[{{node input_1}}]]\n",
      "2023-09-05 17:19:42.791308: I tensorflow/core/common_runtime/executor.cc:1197] [/device:CPU:0] (DEBUG INFO) Executor start aborting (this does not indicate an error and you can ignore this message): INVALID_ARGUMENT: You must feed a value for placeholder tensor 'x' with dtype float and shape [?,126,8]\n",
      "\t [[{{node x}}]]\n",
      "2023-09-05 17:19:42.836866: I tensorflow/core/common_runtime/executor.cc:1197] [/device:CPU:0] (DEBUG INFO) Executor start aborting (this does not indicate an error and you can ignore this message): INVALID_ARGUMENT: You must feed a value for placeholder tensor 'x' with dtype float and shape [?,126,8]\n",
      "\t [[{{node x}}]]\n",
      "2023-09-05 17:19:43.086040: I tensorflow/core/common_runtime/executor.cc:1197] [/device:CPU:0] (DEBUG INFO) Executor start aborting (this does not indicate an error and you can ignore this message): INVALID_ARGUMENT: You must feed a value for placeholder tensor 'inp' with dtype float and shape [?,126,8]\n",
      "\t [[{{node inp}}]]\n",
      "2023-09-05 17:19:43.214896: I tensorflow/core/common_runtime/executor.cc:1197] [/device:CPU:0] (DEBUG INFO) Executor start aborting (this does not indicate an error and you can ignore this message): INVALID_ARGUMENT: You must feed a value for placeholder tensor 'inp' with dtype float and shape [?,126,8]\n",
      "\t [[{{node inp}}]]\n",
      "2023-09-05 17:19:43.403494: I tensorflow/core/common_runtime/executor.cc:1197] [/device:CPU:0] (DEBUG INFO) Executor start aborting (this does not indicate an error and you can ignore this message): INVALID_ARGUMENT: You must feed a value for placeholder tensor 'input_1' with dtype float and shape [?,126,8]\n",
      "\t [[{{node input_1}}]]\n",
      "2023-09-05 17:19:43.528237: I tensorflow/core/common_runtime/executor.cc:1197] [/device:CPU:0] (DEBUG INFO) Executor start aborting (this does not indicate an error and you can ignore this message): INVALID_ARGUMENT: You must feed a value for placeholder tensor 'inp' with dtype float and shape [?,126,8]\n",
      "\t [[{{node inp}}]]\n",
      "2023-09-05 17:19:43.640344: I tensorflow/core/common_runtime/executor.cc:1197] [/device:CPU:0] (DEBUG INFO) Executor start aborting (this does not indicate an error and you can ignore this message): INVALID_ARGUMENT: You must feed a value for placeholder tensor 'inp' with dtype float and shape [?,126,8]\n",
      "\t [[{{node inp}}]]\n",
      "2023-09-05 17:19:46.017343: I tensorflow/core/common_runtime/executor.cc:1197] [/device:CPU:0] (DEBUG INFO) Executor start aborting (this does not indicate an error and you can ignore this message): INVALID_ARGUMENT: You must feed a value for placeholder tensor 'x' with dtype float and shape [?,126,8]\n",
      "\t [[{{node x}}]]\n",
      "2023-09-05 17:19:46.065333: I tensorflow/core/common_runtime/executor.cc:1197] [/device:CPU:0] (DEBUG INFO) Executor start aborting (this does not indicate an error and you can ignore this message): INVALID_ARGUMENT: You must feed a value for placeholder tensor 'x' with dtype float and shape [?,126,8]\n",
      "\t [[{{node x}}]]\n",
      "2023-09-05 17:19:48.624324: I tensorflow/core/common_runtime/executor.cc:1197] [/device:CPU:0] (DEBUG INFO) Executor start aborting (this does not indicate an error and you can ignore this message): INVALID_ARGUMENT: You must feed a value for placeholder tensor 'inputs' with dtype float and shape [?,126,8]\n",
      "\t [[{{node inputs}}]]\n",
      "2023-09-05 17:19:48.635437: I tensorflow/core/common_runtime/executor.cc:1197] [/device:CPU:0] (DEBUG INFO) Executor start aborting (this does not indicate an error and you can ignore this message): INVALID_ARGUMENT: You must feed a value for placeholder tensor 'inputs' with dtype float and shape [?,126,8]\n",
      "\t [[{{node inputs}}]]\n",
      "2023-09-05 17:19:48.747213: I tensorflow/core/common_runtime/executor.cc:1197] [/device:CPU:0] (DEBUG INFO) Executor start aborting (this does not indicate an error and you can ignore this message): INVALID_ARGUMENT: You must feed a value for placeholder tensor 'inputs' with dtype float and shape [?,126,8]\n",
      "\t [[{{node inputs}}]]\n",
      "2023-09-05 17:19:48.757156: I tensorflow/core/common_runtime/executor.cc:1197] [/device:CPU:0] (DEBUG INFO) Executor start aborting (this does not indicate an error and you can ignore this message): INVALID_ARGUMENT: You must feed a value for placeholder tensor 'inputs' with dtype float and shape [?,126,8]\n",
      "\t [[{{node inputs}}]]\n",
      "2023-09-05 17:19:48.871890: I tensorflow/core/common_runtime/executor.cc:1197] [/device:CPU:0] (DEBUG INFO) Executor start aborting (this does not indicate an error and you can ignore this message): INVALID_ARGUMENT: You must feed a value for placeholder tensor 'inputs' with dtype float and shape [?,126,8]\n",
      "\t [[{{node inputs}}]]\n",
      "2023-09-05 17:19:48.882523: I tensorflow/core/common_runtime/executor.cc:1197] [/device:CPU:0] (DEBUG INFO) Executor start aborting (this does not indicate an error and you can ignore this message): INVALID_ARGUMENT: You must feed a value for placeholder tensor 'inputs' with dtype float and shape [?,126,8]\n",
      "\t [[{{node inputs}}]]\n",
      "2023-09-05 17:19:48.997856: I tensorflow/core/common_runtime/executor.cc:1197] [/device:CPU:0] (DEBUG INFO) Executor start aborting (this does not indicate an error and you can ignore this message): INVALID_ARGUMENT: You must feed a value for placeholder tensor 'inputs' with dtype float and shape [?,126,8]\n",
      "\t [[{{node inputs}}]]\n",
      "2023-09-05 17:19:49.009634: I tensorflow/core/common_runtime/executor.cc:1197] [/device:CPU:0] (DEBUG INFO) Executor start aborting (this does not indicate an error and you can ignore this message): INVALID_ARGUMENT: You must feed a value for placeholder tensor 'inputs' with dtype float and shape [?,126,8]\n",
      "\t [[{{node inputs}}]]\n",
      "2023-09-05 17:19:49.135151: I tensorflow/core/common_runtime/executor.cc:1197] [/device:CPU:0] (DEBUG INFO) Executor start aborting (this does not indicate an error and you can ignore this message): INVALID_ARGUMENT: You must feed a value for placeholder tensor 'inputs' with dtype float and shape [?,126,8]\n",
      "\t [[{{node inputs}}]]\n",
      "2023-09-05 17:19:49.145813: I tensorflow/core/common_runtime/executor.cc:1197] [/device:CPU:0] (DEBUG INFO) Executor start aborting (this does not indicate an error and you can ignore this message): INVALID_ARGUMENT: You must feed a value for placeholder tensor 'inputs' with dtype float and shape [?,126,8]\n",
      "\t [[{{node inputs}}]]\n",
      "2023-09-05 17:19:49.269318: I tensorflow/core/common_runtime/executor.cc:1197] [/device:CPU:0] (DEBUG INFO) Executor start aborting (this does not indicate an error and you can ignore this message): INVALID_ARGUMENT: You must feed a value for placeholder tensor 'inputs' with dtype float and shape [?,126,8]\n",
      "\t [[{{node inputs}}]]\n",
      "2023-09-05 17:19:49.279385: I tensorflow/core/common_runtime/executor.cc:1197] [/device:CPU:0] (DEBUG INFO) Executor start aborting (this does not indicate an error and you can ignore this message): INVALID_ARGUMENT: You must feed a value for placeholder tensor 'inputs' with dtype float and shape [?,126,8]\n",
      "\t [[{{node inputs}}]]\n",
      "2023-09-05 17:19:49.408688: I tensorflow/core/common_runtime/executor.cc:1197] [/device:CPU:0] (DEBUG INFO) Executor start aborting (this does not indicate an error and you can ignore this message): INVALID_ARGUMENT: You must feed a value for placeholder tensor 'inputs' with dtype float and shape [?,126,8]\n",
      "\t [[{{node inputs}}]]\n",
      "2023-09-05 17:19:49.419271: I tensorflow/core/common_runtime/executor.cc:1197] [/device:CPU:0] (DEBUG INFO) Executor start aborting (this does not indicate an error and you can ignore this message): INVALID_ARGUMENT: You must feed a value for placeholder tensor 'inputs' with dtype float and shape [?,126,8]\n",
      "\t [[{{node inputs}}]]\n",
      "2023-09-05 17:19:49.550271: I tensorflow/core/common_runtime/executor.cc:1197] [/device:CPU:0] (DEBUG INFO) Executor start aborting (this does not indicate an error and you can ignore this message): INVALID_ARGUMENT: You must feed a value for placeholder tensor 'inputs' with dtype float and shape [?,126,8]\n",
      "\t [[{{node inputs}}]]\n",
      "2023-09-05 17:19:49.560604: I tensorflow/core/common_runtime/executor.cc:1197] [/device:CPU:0] (DEBUG INFO) Executor start aborting (this does not indicate an error and you can ignore this message): INVALID_ARGUMENT: You must feed a value for placeholder tensor 'inputs' with dtype float and shape [?,126,8]\n",
      "\t [[{{node inputs}}]]\n",
      "2023-09-05 17:19:49.673580: I tensorflow/core/common_runtime/executor.cc:1197] [/device:CPU:0] (DEBUG INFO) Executor start aborting (this does not indicate an error and you can ignore this message): INVALID_ARGUMENT: You must feed a value for placeholder tensor 'inputs' with dtype float and shape [?,126,8]\n",
      "\t [[{{node inputs}}]]\n",
      "2023-09-05 17:19:49.702508: I tensorflow/core/common_runtime/executor.cc:1197] [/device:CPU:0] (DEBUG INFO) Executor start aborting (this does not indicate an error and you can ignore this message): INVALID_ARGUMENT: You must feed a value for placeholder tensor 'inputs' with dtype float and shape [?,126,512]\n",
      "\t [[{{node inputs}}]]\n",
      "2023-09-05 17:19:49.735671: I tensorflow/core/common_runtime/executor.cc:1197] [/device:CPU:0] (DEBUG INFO) Executor start aborting (this does not indicate an error and you can ignore this message): INVALID_ARGUMENT: You must feed a value for placeholder tensor 'inputs' with dtype float and shape [?,126,8]\n",
      "\t [[{{node inputs}}]]\n",
      "2023-09-05 17:19:49.764848: I tensorflow/core/common_runtime/executor.cc:1197] [/device:CPU:0] (DEBUG INFO) Executor start aborting (this does not indicate an error and you can ignore this message): INVALID_ARGUMENT: You must feed a value for placeholder tensor 'inputs' with dtype float and shape [?,126,512]\n",
      "\t [[{{node inputs}}]]\n",
      "2023-09-05 17:19:49.797448: I tensorflow/core/common_runtime/executor.cc:1197] [/device:CPU:0] (DEBUG INFO) Executor start aborting (this does not indicate an error and you can ignore this message): INVALID_ARGUMENT: You must feed a value for placeholder tensor 'inputs' with dtype float and shape [?,126,8]\n",
      "\t [[{{node inputs}}]]\n",
      "2023-09-05 17:19:49.826772: I tensorflow/core/common_runtime/executor.cc:1197] [/device:CPU:0] (DEBUG INFO) Executor start aborting (this does not indicate an error and you can ignore this message): INVALID_ARGUMENT: You must feed a value for placeholder tensor 'inputs' with dtype float and shape [?,126,512]\n",
      "\t [[{{node inputs}}]]\n",
      "2023-09-05 17:19:49.859947: I tensorflow/core/common_runtime/executor.cc:1197] [/device:CPU:0] (DEBUG INFO) Executor start aborting (this does not indicate an error and you can ignore this message): INVALID_ARGUMENT: You must feed a value for placeholder tensor 'inputs' with dtype float and shape [?,126,8]\n",
      "\t [[{{node inputs}}]]\n",
      "2023-09-05 17:19:49.893035: I tensorflow/core/common_runtime/executor.cc:1197] [/device:CPU:0] (DEBUG INFO) Executor start aborting (this does not indicate an error and you can ignore this message): INVALID_ARGUMENT: You must feed a value for placeholder tensor 'inputs' with dtype float and shape [?,126,512]\n",
      "\t [[{{node inputs}}]]\n",
      "2023-09-05 17:19:49.930246: I tensorflow/core/common_runtime/executor.cc:1197] [/device:CPU:0] (DEBUG INFO) Executor start aborting (this does not indicate an error and you can ignore this message): INVALID_ARGUMENT: You must feed a value for placeholder tensor 'inputs' with dtype float and shape [?,126,8]\n",
      "\t [[{{node inputs}}]]\n",
      "2023-09-05 17:19:49.961847: I tensorflow/core/common_runtime/executor.cc:1197] [/device:CPU:0] (DEBUG INFO) Executor start aborting (this does not indicate an error and you can ignore this message): INVALID_ARGUMENT: You must feed a value for placeholder tensor 'inputs' with dtype float and shape [?,126,512]\n",
      "\t [[{{node inputs}}]]\n",
      "2023-09-05 17:19:49.998782: I tensorflow/core/common_runtime/executor.cc:1197] [/device:CPU:0] (DEBUG INFO) Executor start aborting (this does not indicate an error and you can ignore this message): INVALID_ARGUMENT: You must feed a value for placeholder tensor 'inputs' with dtype float and shape [?,126,8]\n",
      "\t [[{{node inputs}}]]\n",
      "2023-09-05 17:19:50.027826: I tensorflow/core/common_runtime/executor.cc:1197] [/device:CPU:0] (DEBUG INFO) Executor start aborting (this does not indicate an error and you can ignore this message): INVALID_ARGUMENT: You must feed a value for placeholder tensor 'inputs' with dtype float and shape [?,126,512]\n",
      "\t [[{{node inputs}}]]\n",
      "2023-09-05 17:19:50.066432: I tensorflow/core/common_runtime/executor.cc:1197] [/device:CPU:0] (DEBUG INFO) Executor start aborting (this does not indicate an error and you can ignore this message): INVALID_ARGUMENT: You must feed a value for placeholder tensor 'inputs' with dtype float and shape [?,126,8]\n",
      "\t [[{{node inputs}}]]\n",
      "2023-09-05 17:19:50.100236: I tensorflow/core/common_runtime/executor.cc:1197] [/device:CPU:0] (DEBUG INFO) Executor start aborting (this does not indicate an error and you can ignore this message): INVALID_ARGUMENT: You must feed a value for placeholder tensor 'inputs' with dtype float and shape [?,126,512]\n",
      "\t [[{{node inputs}}]]\n",
      "2023-09-05 17:19:50.137221: I tensorflow/core/common_runtime/executor.cc:1197] [/device:CPU:0] (DEBUG INFO) Executor start aborting (this does not indicate an error and you can ignore this message): INVALID_ARGUMENT: You must feed a value for placeholder tensor 'inputs' with dtype float and shape [?,126,8]\n",
      "\t [[{{node inputs}}]]\n",
      "2023-09-05 17:19:50.166125: I tensorflow/core/common_runtime/executor.cc:1197] [/device:CPU:0] (DEBUG INFO) Executor start aborting (this does not indicate an error and you can ignore this message): INVALID_ARGUMENT: You must feed a value for placeholder tensor 'inputs' with dtype float and shape [?,126,512]\n",
      "\t [[{{node inputs}}]]\n",
      "WARNING:absl:Found untraced functions such as _update_step_xla, dense_layer_call_fn, dense_layer_call_and_return_conditional_losses, dropout_8_layer_call_fn, dropout_8_layer_call_and_return_conditional_losses while saving (showing 5 of 271). These functions will not be directly callable after loading.\n",
      "2023-09-05 17:19:51.278570: I tensorflow/core/common_runtime/executor.cc:1197] [/device:CPU:0] (DEBUG INFO) Executor start aborting (this does not indicate an error and you can ignore this message): INVALID_ARGUMENT: You must feed a value for placeholder tensor 'serving_default_input_1' with dtype float and shape [?,126,8]\n",
      "\t [[{{node serving_default_input_1}}]]\n"
     ]
    },
    {
     "name": "stdout",
     "output_type": "stream",
     "text": [
      "INFO:tensorflow:Assets written to: transformer/assets\n"
     ]
    },
    {
     "name": "stderr",
     "output_type": "stream",
     "text": [
      "INFO:tensorflow:Assets written to: transformer/assets\n"
     ]
    }
   ],
   "source": [
    "# Miscellaneous needed variables\n",
    "test_losses = []\n",
    "save_path = \"weights.h5\"\n",
    "\n",
    "# Main training loop\n",
    "for epoch in range(epochs):\n",
    "\n",
    "    #pb_i = Progbar(len(train_ds))\n",
    "\n",
    "    # Train loop\n",
    "    for input, target_ in train_ds:\n",
    "        # Train\n",
    "        loss = transformer.train_step(input,target_)\n",
    "        # Loss\n",
    "        loss_metric_train.update_state(values=loss)\n",
    "        # Update progbar\n",
    "        #pb_i.add(1)\n",
    "\n",
    "    print(f\"Train loss at epoch {epoch+1}: {loss_metric_train.result()}\")\n",
    "\n",
    "    # Logging train metrics\n",
    "    with train_summary_writer.as_default():\n",
    "        tf.summary.scalar(f\"{loss_metric_train.name}\", loss_metric_train.result(), step=epoch)\n",
    "\n",
    "    # Reset metrics\n",
    "    loss_metric_train.reset_states()\n",
    "\n",
    "    # Test loop\n",
    "    for input,target_ in test_ds:\n",
    "        # Get predictions\n",
    "        loss, prediction_ = transformer.predict(input,target_)\n",
    "        # Loss\n",
    "        loss_metric_test.update_state(values=loss)\n",
    "\n",
    "    # Append test_acc\n",
    "    test_losses.append(loss_metric_train.result())\n",
    "\n",
    "    # Checkpointing\n",
    "    info = save_weights(loss_metric_train.result(),epoch,transformer)\n",
    "\n",
    "    # Logging test metrics\n",
    "    with test_summary_writer.as_default():\n",
    "        tf.summary.scalar(f\"{loss_metric_test.name}\", loss_metric_test.result(), step=epoch)\n",
    "\n",
    "    print(f\"Test loss at epoch {epoch+1}: {loss_metric_test.result()}\")\n",
    "\n",
    "    # Early stopping\n",
    "    if early_stopping(loss_metric_train.result()):\n",
    "      print(\"Training stopped\")\n",
    "      break\n",
    "\n",
    "    # Reset\n",
    "    loss_metric_test.reset_states()\n",
    "\n",
    "# Save the model\n",
    "transformer.save(\"transformer\", save_format=\"tf\")"
   ]
  },
  {
   "cell_type": "code",
   "execution_count": 16,
   "metadata": {
    "id": "80cKjRDpGCPS"
   },
   "outputs": [
    {
     "data": {
      "text/html": [
       "\n",
       "      <iframe id=\"tensorboard-frame-1b28cd410b1ea163\" width=\"100%\" height=\"800\" frameborder=\"0\">\n",
       "      </iframe>\n",
       "      <script>\n",
       "        (function() {\n",
       "          const frame = document.getElementById(\"tensorboard-frame-1b28cd410b1ea163\");\n",
       "          const url = new URL(\"/\", window.location);\n",
       "          const port = 6006;\n",
       "          if (port) {\n",
       "            url.port = port;\n",
       "          }\n",
       "          frame.src = url;\n",
       "        })();\n",
       "      </script>\n",
       "    "
      ],
      "text/plain": [
       "<IPython.core.display.HTML object>"
      ]
     },
     "metadata": {},
     "output_type": "display_data"
    }
   ],
   "source": [
    "# Visualize training process\n",
    "%tensorboard --logdir=logs/"
   ]
  }
 ],
 "metadata": {
  "accelerator": "GPU",
  "colab": {
   "collapsed_sections": [
    "QC1eRfTGuWyA",
    "cJf8BcE-to4F",
    "n1OVMgLRiBSf",
    "tHmhuucQ4QVr",
    "r2zT3EQ_4Skf",
    "veRXne1V4-wb",
    "F8o1Fa7R538c"
   ],
   "provenance": [
    {
     "file_id": "https://github.com/keras-team/keras-io/blob/master/examples/timeseries/ipynb/timeseries_classification_transformer.ipynb",
     "timestamp": 1686292503880
    }
   ]
  },
  "kernelspec": {
   "display_name": "Python 3 (ipykernel)",
   "language": "python",
   "name": "python3"
  },
  "language_info": {
   "codemirror_mode": {
    "name": "ipython",
    "version": 3
   },
   "file_extension": ".py",
   "mimetype": "text/x-python",
   "name": "python",
   "nbconvert_exporter": "python",
   "pygments_lexer": "ipython3",
   "version": "3.11.3"
  }
 },
 "nbformat": 4,
 "nbformat_minor": 4
}
